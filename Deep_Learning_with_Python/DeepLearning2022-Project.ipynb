{
 "cells": [
  {
   "cell_type": "markdown",
   "metadata": {},
   "source": [
    "### Deep Learning with Python - winter semester 2022/2023\n",
    "### Final Project\n",
    "\n",
    "## The Simpsons Character Classification with GloVe and BERT - a comparison of language models and architectures\n",
    "\n",
    "### Group members: Maria-Teresa de Rosa Palmini, Andrea Schröter\n",
    "\n",
    "The goal of the following code is to build neural networks using GloVe and BERT embeddings to solve a multiclass classification problem, namely to assign a character of \"The Simpsons\" to their utterances in the script. For this task, a dataset containing extracts of the script of roughly 600 episodes uttered by more than 6000 characters was used (https://www.kaggle.com/datasets/prashant111/the-simpsons-dataset). Our prediction is that the model using BERT embeddings will outperform the model using GloVe embeddings since contextual embeddings are said to yield state of the art performance in a wide range of NLP applications (cf. Frassinelli 2022, Devlin et al. 2018).\n",
    "\n",
    "The first step involves preprocessing of the dataset (getting rid of unnecessary columns, the least frequent characters, balancing of classes, padding, tokenizing and one-hot encoding of the label data). In the second step, a model using GloVe embeddings was compared for the dataset containing the 20 and 4 most frequent labels. Then, for the dataset containing 4 labels, a more complex version of the model was tested. For this, we increased the size of the units of the LSTM layer to 64 and added another LSTM layer with 64 units. Lastly, for the dataset containing 4 labels we tested a model using BERT embeddings and compared the performance with that of the models using GloVe embeddings."
   ]
  },
  {
   "cell_type": "markdown",
   "metadata": {},
   "source": [
    "## Part 1:\n",
    "### Analysis, Manipulation and Splitting of Data"
   ]
  },
  {
   "cell_type": "code",
   "execution_count": 2,
   "metadata": {
    "execution": {
     "iopub.execute_input": "2023-02-27T13:35:25.206241Z",
     "iopub.status.busy": "2023-02-27T13:35:25.205880Z",
     "iopub.status.idle": "2023-02-27T13:35:26.385063Z",
     "shell.execute_reply": "2023-02-27T13:35:26.383972Z",
     "shell.execute_reply.started": "2023-02-27T13:35:25.206203Z"
    },
    "tags": []
   },
   "outputs": [
    {
     "name": "stderr",
     "output_type": "stream",
     "text": [
      "/opt/conda/lib/python3.7/site-packages/IPython/core/interactiveshell.py:3552: DtypeWarning: Columns (4,5,6) have mixed types.Specify dtype option on import or set low_memory=False.\n",
      "  exec(code_obj, self.user_global_ns, self.user_ns)\n"
     ]
    },
    {
     "data": {
      "text/html": [
       "<div>\n",
       "<style scoped>\n",
       "    .dataframe tbody tr th:only-of-type {\n",
       "        vertical-align: middle;\n",
       "    }\n",
       "\n",
       "    .dataframe tbody tr th {\n",
       "        vertical-align: top;\n",
       "    }\n",
       "\n",
       "    .dataframe thead th {\n",
       "        text-align: right;\n",
       "    }\n",
       "</style>\n",
       "<table border=\"1\" class=\"dataframe\">\n",
       "  <thead>\n",
       "    <tr style=\"text-align: right;\">\n",
       "      <th></th>\n",
       "      <th>id</th>\n",
       "      <th>episode_id</th>\n",
       "      <th>number</th>\n",
       "      <th>raw_text</th>\n",
       "      <th>timestamp_in_ms</th>\n",
       "      <th>speaking_line</th>\n",
       "      <th>character_id</th>\n",
       "      <th>location_id</th>\n",
       "      <th>raw_character_text</th>\n",
       "      <th>raw_location_text</th>\n",
       "      <th>spoken_words</th>\n",
       "      <th>normalized_text</th>\n",
       "      <th>word_count</th>\n",
       "    </tr>\n",
       "  </thead>\n",
       "  <tbody>\n",
       "    <tr>\n",
       "      <th>0</th>\n",
       "      <td>9549</td>\n",
       "      <td>32</td>\n",
       "      <td>209</td>\n",
       "      <td>Miss Hoover: No, actually, it was a little of ...</td>\n",
       "      <td>848000</td>\n",
       "      <td>True</td>\n",
       "      <td>464.0</td>\n",
       "      <td>3.0</td>\n",
       "      <td>Miss Hoover</td>\n",
       "      <td>Springfield Elementary School</td>\n",
       "      <td>No, actually, it was a little of both. Sometim...</td>\n",
       "      <td>no actually it was a little of both sometimes ...</td>\n",
       "      <td>31</td>\n",
       "    </tr>\n",
       "  </tbody>\n",
       "</table>\n",
       "</div>"
      ],
      "text/plain": [
       "     id  episode_id  number  \\\n",
       "0  9549          32     209   \n",
       "\n",
       "                                            raw_text timestamp_in_ms  \\\n",
       "0  Miss Hoover: No, actually, it was a little of ...          848000   \n",
       "\n",
       "  speaking_line character_id  location_id raw_character_text  \\\n",
       "0          True        464.0          3.0        Miss Hoover   \n",
       "\n",
       "               raw_location_text  \\\n",
       "0  Springfield Elementary School   \n",
       "\n",
       "                                        spoken_words  \\\n",
       "0  No, actually, it was a little of both. Sometim...   \n",
       "\n",
       "                                     normalized_text word_count  \n",
       "0  no actually it was a little of both sometimes ...         31  "
      ]
     },
     "execution_count": 2,
     "metadata": {},
     "output_type": "execute_result"
    }
   ],
   "source": [
    "import numpy as np\n",
    "import pandas as pd\n",
    "import matplotlib.pyplot as plt\n",
    "from tqdm import tqdm\n",
    "\n",
    "# create dataframe from the csv file \n",
    "df = pd.read_csv('/compLing/students/courses/deepLearning/finalProject23/andrea.schroeter/simpsons_script_lines.csv')\n",
    "#df = pd.read_csv('/kaggle/input/the-simpsons-dataset/simpsons_script_lines.csv')\n",
    "\n",
    "# have a look at the last line\n",
    "df[:1]"
   ]
  },
  {
   "cell_type": "code",
   "execution_count": 3,
   "metadata": {
    "execution": {
     "iopub.execute_input": "2023-02-27T13:35:32.127583Z",
     "iopub.status.busy": "2023-02-27T13:35:32.127154Z",
     "iopub.status.idle": "2023-02-27T13:35:32.134139Z",
     "shell.execute_reply": "2023-02-27T13:35:32.133074Z",
     "shell.execute_reply.started": "2023-02-27T13:35:32.127548Z"
    },
    "tags": []
   },
   "outputs": [
    {
     "name": "stdout",
     "output_type": "stream",
     "text": [
      "The dataset contains 158271 rows.\n"
     ]
    }
   ],
   "source": [
    "num_rows = df.shape[0]\n",
    "print(f\"The dataset contains {num_rows} rows.\")\n"
   ]
  },
  {
   "cell_type": "code",
   "execution_count": 4,
   "metadata": {
    "execution": {
     "iopub.execute_input": "2023-02-27T13:35:35.015884Z",
     "iopub.status.busy": "2023-02-27T13:35:35.015495Z",
     "iopub.status.idle": "2023-02-27T13:35:35.038783Z",
     "shell.execute_reply": "2023-02-27T13:35:35.037650Z",
     "shell.execute_reply.started": "2023-02-27T13:35:35.015853Z"
    },
    "tags": []
   },
   "outputs": [
    {
     "data": {
      "text/html": [
       "<div>\n",
       "<style scoped>\n",
       "    .dataframe tbody tr th:only-of-type {\n",
       "        vertical-align: middle;\n",
       "    }\n",
       "\n",
       "    .dataframe tbody tr th {\n",
       "        vertical-align: top;\n",
       "    }\n",
       "\n",
       "    .dataframe thead th {\n",
       "        text-align: right;\n",
       "    }\n",
       "</style>\n",
       "<table border=\"1\" class=\"dataframe\">\n",
       "  <thead>\n",
       "    <tr style=\"text-align: right;\">\n",
       "      <th></th>\n",
       "      <th>raw_character_text</th>\n",
       "      <th>normalized_text</th>\n",
       "      <th>word_count</th>\n",
       "    </tr>\n",
       "  </thead>\n",
       "  <tbody>\n",
       "    <tr>\n",
       "      <th>0</th>\n",
       "      <td>Miss Hoover</td>\n",
       "      <td>no actually it was a little of both sometimes ...</td>\n",
       "      <td>31</td>\n",
       "    </tr>\n",
       "    <tr>\n",
       "      <th>1</th>\n",
       "      <td>Lisa Simpson</td>\n",
       "      <td>wheres mr bergstrom</td>\n",
       "      <td>3</td>\n",
       "    </tr>\n",
       "    <tr>\n",
       "      <th>2</th>\n",
       "      <td>Miss Hoover</td>\n",
       "      <td>i dont know although id sure like to talk to h...</td>\n",
       "      <td>22</td>\n",
       "    </tr>\n",
       "    <tr>\n",
       "      <th>3</th>\n",
       "      <td>Lisa Simpson</td>\n",
       "      <td>that life is worth living</td>\n",
       "      <td>5</td>\n",
       "    </tr>\n",
       "    <tr>\n",
       "      <th>4</th>\n",
       "      <td>Edna Krabappel-Flanders</td>\n",
       "      <td>the polls will be open from now until the end ...</td>\n",
       "      <td>33</td>\n",
       "    </tr>\n",
       "  </tbody>\n",
       "</table>\n",
       "</div>"
      ],
      "text/plain": [
       "        raw_character_text                                    normalized_text  \\\n",
       "0              Miss Hoover  no actually it was a little of both sometimes ...   \n",
       "1             Lisa Simpson                                wheres mr bergstrom   \n",
       "2              Miss Hoover  i dont know although id sure like to talk to h...   \n",
       "3             Lisa Simpson                          that life is worth living   \n",
       "4  Edna Krabappel-Flanders  the polls will be open from now until the end ...   \n",
       "\n",
       "  word_count  \n",
       "0         31  \n",
       "1          3  \n",
       "2         22  \n",
       "3          5  \n",
       "4         33  "
      ]
     },
     "execution_count": 4,
     "metadata": {},
     "output_type": "execute_result"
    }
   ],
   "source": [
    "# dropping unecessary columns in the dataset (we are only interested in the character name, text and word count)\n",
    "df = df.drop([\"spoken_words\", \"id\", \"episode_id\", \"number\", \"timestamp_in_ms\" ,\"speaking_line\", \"character_id\", \"location_id\", \"raw_text\", \"raw_location_text\"], axis=1)\n",
    "df.head()"
   ]
  },
  {
   "cell_type": "code",
   "execution_count": 5,
   "metadata": {
    "execution": {
     "iopub.execute_input": "2023-02-27T13:35:38.571512Z",
     "iopub.status.busy": "2023-02-27T13:35:38.571135Z",
     "iopub.status.idle": "2023-02-27T13:35:38.585217Z",
     "shell.execute_reply": "2023-02-27T13:35:38.584070Z",
     "shell.execute_reply.started": "2023-02-27T13:35:38.571480Z"
    },
    "tags": []
   },
   "outputs": [
    {
     "data": {
      "text/html": [
       "<div>\n",
       "<style scoped>\n",
       "    .dataframe tbody tr th:only-of-type {\n",
       "        vertical-align: middle;\n",
       "    }\n",
       "\n",
       "    .dataframe tbody tr th {\n",
       "        vertical-align: top;\n",
       "    }\n",
       "\n",
       "    .dataframe thead th {\n",
       "        text-align: right;\n",
       "    }\n",
       "</style>\n",
       "<table border=\"1\" class=\"dataframe\">\n",
       "  <thead>\n",
       "    <tr style=\"text-align: right;\">\n",
       "      <th></th>\n",
       "      <th>character_name</th>\n",
       "      <th>text</th>\n",
       "      <th>word_count</th>\n",
       "    </tr>\n",
       "  </thead>\n",
       "  <tbody>\n",
       "    <tr>\n",
       "      <th>0</th>\n",
       "      <td>Miss Hoover</td>\n",
       "      <td>no actually it was a little of both sometimes ...</td>\n",
       "      <td>31</td>\n",
       "    </tr>\n",
       "    <tr>\n",
       "      <th>1</th>\n",
       "      <td>Lisa Simpson</td>\n",
       "      <td>wheres mr bergstrom</td>\n",
       "      <td>3</td>\n",
       "    </tr>\n",
       "    <tr>\n",
       "      <th>2</th>\n",
       "      <td>Miss Hoover</td>\n",
       "      <td>i dont know although id sure like to talk to h...</td>\n",
       "      <td>22</td>\n",
       "    </tr>\n",
       "    <tr>\n",
       "      <th>3</th>\n",
       "      <td>Lisa Simpson</td>\n",
       "      <td>that life is worth living</td>\n",
       "      <td>5</td>\n",
       "    </tr>\n",
       "    <tr>\n",
       "      <th>4</th>\n",
       "      <td>Edna Krabappel-Flanders</td>\n",
       "      <td>the polls will be open from now until the end ...</td>\n",
       "      <td>33</td>\n",
       "    </tr>\n",
       "  </tbody>\n",
       "</table>\n",
       "</div>"
      ],
      "text/plain": [
       "            character_name                                               text  \\\n",
       "0              Miss Hoover  no actually it was a little of both sometimes ...   \n",
       "1             Lisa Simpson                                wheres mr bergstrom   \n",
       "2              Miss Hoover  i dont know although id sure like to talk to h...   \n",
       "3             Lisa Simpson                          that life is worth living   \n",
       "4  Edna Krabappel-Flanders  the polls will be open from now until the end ...   \n",
       "\n",
       "  word_count  \n",
       "0         31  \n",
       "1          3  \n",
       "2         22  \n",
       "3          5  \n",
       "4         33  "
      ]
     },
     "execution_count": 5,
     "metadata": {},
     "output_type": "execute_result"
    }
   ],
   "source": [
    "# renaming column names for simplicity \n",
    "df.rename(columns = {'raw_character_text':'character_name', 'normalized_text':'text'}, inplace = True)\n",
    "df.head()"
   ]
  },
  {
   "cell_type": "code",
   "execution_count": 6,
   "metadata": {
    "execution": {
     "iopub.execute_input": "2023-02-27T13:35:40.714125Z",
     "iopub.status.busy": "2023-02-27T13:35:40.713772Z",
     "iopub.status.idle": "2023-02-27T13:35:40.739502Z",
     "shell.execute_reply": "2023-02-27T13:35:40.738407Z",
     "shell.execute_reply.started": "2023-02-27T13:35:40.714096Z"
    },
    "tags": []
   },
   "outputs": [
    {
     "name": "stdout",
     "output_type": "stream",
     "text": [
      "character_name    17522\n",
      "text              26184\n",
      "word_count        26159\n",
      "dtype: int64\n"
     ]
    }
   ],
   "source": [
    "# check for null values\n",
    "null_counts = df.isnull().sum()\n",
    "\n",
    "# print null counts for the columns\n",
    "print(null_counts)"
   ]
  },
  {
   "cell_type": "code",
   "execution_count": 7,
   "metadata": {
    "execution": {
     "iopub.execute_input": "2023-02-27T13:35:43.029785Z",
     "iopub.status.busy": "2023-02-27T13:35:43.029116Z",
     "iopub.status.idle": "2023-02-27T13:35:43.079371Z",
     "shell.execute_reply": "2023-02-27T13:35:43.078404Z",
     "shell.execute_reply.started": "2023-02-27T13:35:43.029733Z"
    },
    "tags": []
   },
   "outputs": [],
   "source": [
    "# drop rows with null values for character_name and text\n",
    "df= df.dropna(subset=['character_name', 'text'])"
   ]
  },
  {
   "cell_type": "code",
   "execution_count": 8,
   "metadata": {
    "execution": {
     "iopub.execute_input": "2023-02-27T13:35:44.618859Z",
     "iopub.status.busy": "2023-02-27T13:35:44.618479Z",
     "iopub.status.idle": "2023-02-27T13:35:44.640184Z",
     "shell.execute_reply": "2023-02-27T13:35:44.639152Z",
     "shell.execute_reply.started": "2023-02-27T13:35:44.618828Z"
    },
    "tags": []
   },
   "outputs": [
    {
     "name": "stdout",
     "output_type": "stream",
     "text": [
      "character_name    0\n",
      "text              0\n",
      "word_count        0\n",
      "dtype: int64\n"
     ]
    }
   ],
   "source": [
    "# check for null values to ensure they were dropped\n",
    "null_counts = df.isnull().sum()\n",
    "\n",
    "print(null_counts)"
   ]
  },
  {
   "cell_type": "code",
   "execution_count": 9,
   "metadata": {
    "execution": {
     "iopub.execute_input": "2023-02-27T13:35:47.336413Z",
     "iopub.status.busy": "2023-02-27T13:35:47.336059Z",
     "iopub.status.idle": "2023-02-27T13:35:47.468369Z",
     "shell.execute_reply": "2023-02-27T13:35:47.467384Z",
     "shell.execute_reply.started": "2023-02-27T13:35:47.336384Z"
    }
   },
   "outputs": [
    {
     "name": "stdout",
     "output_type": "stream",
     "text": [
      "132085\n",
      "119803\n",
      "119803\n"
     ]
    }
   ],
   "source": [
    "# drop similar lines (duplicates)\n",
    "print(len(df))\n",
    "print(len(df.text.unique()))\n",
    "df = df.drop_duplicates(subset=['text'])\n",
    "print(len(df.text))"
   ]
  },
  {
   "cell_type": "code",
   "execution_count": 10,
   "metadata": {
    "execution": {
     "iopub.execute_input": "2023-02-27T13:35:49.503507Z",
     "iopub.status.busy": "2023-02-27T13:35:49.503145Z",
     "iopub.status.idle": "2023-02-27T13:35:58.056204Z",
     "shell.execute_reply": "2023-02-27T13:35:58.055181Z",
     "shell.execute_reply.started": "2023-02-27T13:35:49.503477Z"
    },
    "tags": []
   },
   "outputs": [
    {
     "name": "stdout",
     "output_type": "stream",
     "text": [
      "['31' '3' '22' '5' '33' '8' '1' '4' '19' '10' '9' '6' '2' '15' '7' '11'\n",
      " '13' '12' '43' '23' '20' '30' '29' '16' '18' '40' '67' '21' '17' '41'\n",
      " '27' '50' '28' '14' '26' '32' '25' '87' '36' '24' '34' '38' '49' '51'\n",
      " '44' '37' '46' '64' '42' '35' '55' '70' '68' '39' '61' '58' '59' '45'\n",
      " '54' '53' '52' '48' '62' '90' '56' '47' '103' '71' 'true' '60' '63' '122'\n",
      " '85' '57' '73' '106' '78' '69' '75' '81' '76' '91' '72' '74' '80' '111'\n",
      " '66' '571000' '82' '88' '1145000' '100' '672000' '147000' '409000'\n",
      " 'I\\'m a Selma.\"' '84' '117000' '65'\n",
      " 'and presto -- you\\'re part of the under-clown railroad! So you got any talent?\"'\n",
      " '116' '79' '105' '98' '77'\n",
      " 'just don\\'t ask me to drive you to the airport.\"' '110' '114'\n",
      " 'the fact that it wasn\\'t me. I\\'ve never felt so alive.\"' '1154000' '83'\n",
      " '108000']\n",
      "7334\n",
      "0\n"
     ]
    },
    {
     "data": {
      "image/png": "[encoded data removed]",
      "text/plain": [
       "<Figure size 640x480 with 1 Axes>"
      ]
     },
     "metadata": {},
     "output_type": "display_data"
    }
   ],
   "source": [
    "# looking at unique values of word counts \n",
    "print(df['word_count'].unique())\n",
    "\n",
    "'''The word counts also contain non integer values which we want to remove.\n",
    "Moreover, we think that word counts <= 2 are not very informative, since they can contain utterances like \"yes\" or \"no\"\n",
    "which we doubt are highly character specific.\n",
    "'''\n",
    "\n",
    "# casting word counts to integers, if not possible remove row\n",
    "for index, row in df.iterrows():\n",
    "    try:\n",
    "        row['word_count'] = int(row['word_count'])\n",
    "    except:\n",
    "        df.drop(index, inplace=True)\n",
    "    \n",
    "df['word_count'] = df['word_count'].astype('int')\n",
    "\n",
    "# print number of rows with a word count <= 2\n",
    "print(len(df[df['word_count'] <= 2]))\n",
    "\n",
    "# drop rows with word count <= 2\n",
    "df.drop(df[df.word_count <= 2].index, inplace=True)\n",
    "\n",
    "# make sure we deleted rows with a word count <= 2\n",
    "print(len(df[df['word_count'] <= 2]))\n",
    "\n",
    "# plot the 20 most frequent word counts (important for deciding truncation and maximum length of text)\n",
    "\n",
    "counts = df['word_count'].unique()[:20] \n",
    "frequencies = [len(df.loc[df.values == count]) for count in counts] \n",
    "\n",
    "fig = plt.figure()\n",
    "plt.bar(counts, frequencies)\n",
    "fig.suptitle('Frequency distributions of text lengths (in words)')\n",
    "plt.xlabel('number of words')\n",
    "plt.ylabel('frequency')\n",
    "plt.show()"
   ]
  },
  {
   "cell_type": "code",
   "execution_count": 11,
   "metadata": {
    "execution": {
     "iopub.execute_input": "2023-02-27T13:35:58.063986Z",
     "iopub.status.busy": "2023-02-27T13:35:58.061130Z",
     "iopub.status.idle": "2023-02-27T13:35:58.086583Z",
     "shell.execute_reply": "2023-02-27T13:35:58.085219Z",
     "shell.execute_reply.started": "2023-02-27T13:35:58.063944Z"
    },
    "tags": []
   },
   "outputs": [],
   "source": [
    "# 20 most frequent characters \n",
    "frequent_characters = df['character_name'].value_counts().head(20)"
   ]
  },
  {
   "cell_type": "code",
   "execution_count": 12,
   "metadata": {
    "execution": {
     "iopub.execute_input": "2023-02-27T13:35:58.089629Z",
     "iopub.status.busy": "2023-02-27T13:35:58.088833Z",
     "iopub.status.idle": "2023-02-27T13:35:58.516695Z",
     "shell.execute_reply": "2023-02-27T13:35:58.515730Z",
     "shell.execute_reply.started": "2023-02-27T13:35:58.089589Z"
    },
    "tags": []
   },
   "outputs": [
    {
     "data": {
      "text/plain": [
       "<AxesSubplot:>"
      ]
     },
     "execution_count": 12,
     "metadata": {},
     "output_type": "execute_result"
    },
    {
     "data": {
      "image/png": "[encoded data removed]",
      "text/plain": [
       "<Figure size 640x480 with 1 Axes>"
      ]
     },
     "metadata": {},
     "output_type": "display_data"
    }
   ],
   "source": [
    "# create bar chart of the top 20 most frequent characters\n",
    "frequent_characters.plot(kind='barh')"
   ]
  },
  {
   "cell_type": "code",
   "execution_count": 13,
   "metadata": {
    "execution": {
     "iopub.execute_input": "2023-02-27T13:35:58.519788Z",
     "iopub.status.busy": "2023-02-27T13:35:58.519085Z",
     "iopub.status.idle": "2023-02-27T13:35:58.528555Z",
     "shell.execute_reply": "2023-02-27T13:35:58.527316Z",
     "shell.execute_reply.started": "2023-02-27T13:35:58.519751Z"
    },
    "tags": []
   },
   "outputs": [
    {
     "name": "stdout",
     "output_type": "stream",
     "text": [
      "Homer Simpson              20.695389\n",
      "Marge Simpson              10.017340\n",
      "Bart Simpson                9.376195\n",
      "Lisa Simpson                7.948957\n",
      "C. Montgomery Burns         2.396514\n",
      "Moe Szyslak                 2.240896\n",
      "Seymour Skinner             1.900316\n",
      "Ned Flanders                1.611311\n",
      "Chief Wiggum                1.453915\n",
      "Grampa Simpson              1.395225\n",
      "Krusty the Clown            1.360544\n",
      "Milhouse Van Houten         1.288515\n",
      "Lenny Leonard               0.890134\n",
      "Nelson Muntz                0.794985\n",
      "Apu Nahasapeemapetilon      0.767418\n",
      "Waylon Smithers             0.752301\n",
      "Kent Brockman               0.751412\n",
      "Carl Carlson                0.653595\n",
      "Edna Krabappel-Flanders     0.562003\n",
      "Dr. Julius Hibbert          0.553999\n",
      "Name: character_name, dtype: float64\n"
     ]
    }
   ],
   "source": [
    "# calculate percentage of samples in each class (character name)\n",
    "class_percentages = frequent_characters / len(df) * 100\n",
    "\n",
    "# print the class percentages\n",
    "print(class_percentages)"
   ]
  },
  {
   "cell_type": "markdown",
   "metadata": {},
   "source": [
    "Given the frequency of the 20 most frequent class labels (character names) we see that the dataset is very imbalanced. „Homer Simpson“ is the most frequent character with a percentage of 20.82%, followed by „Marge Simpson“ (10.05 %), „Bart Simpson“ (9.42 %) and „Lisa Simpson“ with 7.97 %. All other characters are very infrequent (less than 2.4 %, e.g. „Dr. Julius Hibbert“ with a percentage of 0.55 %). This is problematic as it can affect the performance of the classifier because the model could become biased towards the majority classes. It could not generalize well regarding the less frequent classes (cf. Liu & Zhou 2008). To avoid this problem and to balance the classes, we created a second dataset containing the four most frequent labels."
   ]
  },
  {
   "cell_type": "code",
   "execution_count": 14,
   "metadata": {
    "execution": {
     "iopub.execute_input": "2023-02-27T13:36:05.562578Z",
     "iopub.status.busy": "2023-02-27T13:36:05.562205Z",
     "iopub.status.idle": "2023-02-27T13:36:05.591099Z",
     "shell.execute_reply": "2023-02-27T13:36:05.590049Z",
     "shell.execute_reply.started": "2023-02-27T13:36:05.562547Z"
    },
    "tags": []
   },
   "outputs": [
    {
     "data": {
      "text/html": [
       "<div>\n",
       "<style scoped>\n",
       "    .dataframe tbody tr th:only-of-type {\n",
       "        vertical-align: middle;\n",
       "    }\n",
       "\n",
       "    .dataframe tbody tr th {\n",
       "        vertical-align: top;\n",
       "    }\n",
       "\n",
       "    .dataframe thead th {\n",
       "        text-align: right;\n",
       "    }\n",
       "</style>\n",
       "<table border=\"1\" class=\"dataframe\">\n",
       "  <thead>\n",
       "    <tr style=\"text-align: right;\">\n",
       "      <th></th>\n",
       "      <th>character_name</th>\n",
       "      <th>text</th>\n",
       "      <th>word_count</th>\n",
       "    </tr>\n",
       "  </thead>\n",
       "  <tbody>\n",
       "    <tr>\n",
       "      <th>1</th>\n",
       "      <td>Lisa Simpson</td>\n",
       "      <td>wheres mr bergstrom</td>\n",
       "      <td>3</td>\n",
       "    </tr>\n",
       "    <tr>\n",
       "      <th>3</th>\n",
       "      <td>Lisa Simpson</td>\n",
       "      <td>that life is worth living</td>\n",
       "      <td>5</td>\n",
       "    </tr>\n",
       "    <tr>\n",
       "      <th>7</th>\n",
       "      <td>Bart Simpson</td>\n",
       "      <td>victory party under the slide</td>\n",
       "      <td>5</td>\n",
       "    </tr>\n",
       "    <tr>\n",
       "      <th>9</th>\n",
       "      <td>Lisa Simpson</td>\n",
       "      <td>mr bergstrom mr bergstrom</td>\n",
       "      <td>4</td>\n",
       "    </tr>\n",
       "    <tr>\n",
       "      <th>11</th>\n",
       "      <td>Lisa Simpson</td>\n",
       "      <td>do you know where i could find him</td>\n",
       "      <td>8</td>\n",
       "    </tr>\n",
       "  </tbody>\n",
       "</table>\n",
       "</div>"
      ],
      "text/plain": [
       "   character_name                                text  word_count\n",
       "1    Lisa Simpson                 wheres mr bergstrom           3\n",
       "3    Lisa Simpson           that life is worth living           5\n",
       "7    Bart Simpson       victory party under the slide           5\n",
       "9    Lisa Simpson           mr bergstrom mr bergstrom           4\n",
       "11   Lisa Simpson  do you know where i could find him           8"
      ]
     },
     "execution_count": 14,
     "metadata": {},
     "output_type": "execute_result"
    }
   ],
   "source": [
    "# Select the top 4 (Lisa, Bart, Marge and Homer Simpson) and 20 most frequent labels\n",
    "top_20_labels = frequent_characters.head(20).index\n",
    "top_4_labels = frequent_characters.head(4).index\n",
    "\n",
    "# Create a new DataFrame containing only the rows that have one of the top 20 most frequent labels\n",
    "new_df = df[df['character_name'].isin(top_20_labels)]\n",
    "\n",
    "# Create a new DataFrame containing only the rows that have one of the top 4 most frequent labels\n",
    "new_df_4 = df[df['character_name'].isin(top_4_labels)]\n",
    "new_df_4.head()"
   ]
  },
  {
   "cell_type": "markdown",
   "metadata": {},
   "source": [
    "To adress the imbalance problem we applied undersampling. Undersampling is a sampling technique where only a subset of the majority class is used (cf. Liu & Zhou 2008). This subset matches the number of examples of the minority class."
   ]
  },
  {
   "cell_type": "code",
   "execution_count": 15,
   "metadata": {
    "execution": {
     "iopub.execute_input": "2023-02-27T13:36:08.123647Z",
     "iopub.status.busy": "2023-02-27T13:36:08.123278Z",
     "iopub.status.idle": "2023-02-27T13:36:08.267251Z",
     "shell.execute_reply": "2023-02-27T13:36:08.266165Z",
     "shell.execute_reply.started": "2023-02-27T13:36:08.123616Z"
    },
    "tags": []
   },
   "outputs": [],
   "source": [
    "# undersampling based on the steps in this tutorial: https://blog.madhukaraphatak.com/class-imbalance-part-2\n",
    "\n",
    "# determine minority class\n",
    "minority_class = new_df_4['character_name'].value_counts().idxmin()\n",
    "\n",
    "# split dataset into minority and majority classes\n",
    "minority_subset = new_df_4[new_df_4['character_name'] == minority_class]\n",
    "majority_subset = new_df_4[new_df_4['character_name'] != minority_class]\n",
    "\n",
    "# number of examples of majority classes should match the number of samples in the minority class\n",
    "majority_subset = majority_subset.groupby('character_name').apply(lambda x: x.sample(n=len(minority_subset)))\n",
    "\n",
    "# combine the minority and the majority subset\n",
    "dataframe4 = pd.concat([minority_subset, majority_subset])\n",
    "\n",
    "# shuffle rows\n",
    "dataframe4 = dataframe4.sample(frac=1, random_state=42)"
   ]
  },
  {
   "cell_type": "code",
   "execution_count": 16,
   "metadata": {
    "execution": {
     "iopub.execute_input": "2023-02-27T13:36:10.375193Z",
     "iopub.status.busy": "2023-02-27T13:36:10.374810Z",
     "iopub.status.idle": "2023-02-27T13:36:10.384991Z",
     "shell.execute_reply": "2023-02-27T13:36:10.383906Z",
     "shell.execute_reply.started": "2023-02-27T13:36:10.375163Z"
    },
    "tags": []
   },
   "outputs": [
    {
     "name": "stdout",
     "output_type": "stream",
     "text": [
      "Homer Simpson    7.948957\n",
      "Lisa Simpson     7.948957\n",
      "Marge Simpson    7.948957\n",
      "Bart Simpson     7.948957\n",
      "Name: character_name, dtype: float64\n"
     ]
    }
   ],
   "source": [
    "unique_labels = dataframe4['character_name'].value_counts()\n",
    "\n",
    "# determine the percentage of samples in each class\n",
    "class_percentages = unique_labels / len(df) * 100\n",
    "\n",
    "print(class_percentages)"
   ]
  },
  {
   "cell_type": "code",
   "execution_count": 17,
   "metadata": {
    "execution": {
     "iopub.execute_input": "2023-02-27T13:36:12.217493Z",
     "iopub.status.busy": "2023-02-27T13:36:12.217117Z",
     "iopub.status.idle": "2023-02-27T13:36:12.223387Z",
     "shell.execute_reply": "2023-02-27T13:36:12.222324Z",
     "shell.execute_reply.started": "2023-02-27T13:36:12.217459Z"
    },
    "tags": []
   },
   "outputs": [
    {
     "name": "stdout",
     "output_type": "stream",
     "text": [
      "The new dataframe now contains 35756 examples.\n"
     ]
    }
   ],
   "source": [
    "print(f\"The new dataframe now contains {dataframe4.shape[0]} examples.\")"
   ]
  },
  {
   "cell_type": "code",
   "execution_count": 18,
   "metadata": {
    "execution": {
     "iopub.execute_input": "2023-02-27T13:36:14.159506Z",
     "iopub.status.busy": "2023-02-27T13:36:14.159138Z",
     "iopub.status.idle": "2023-02-27T13:36:14.202511Z",
     "shell.execute_reply": "2023-02-27T13:36:14.201583Z",
     "shell.execute_reply.started": "2023-02-27T13:36:14.159473Z"
    },
    "tags": []
   },
   "outputs": [
    {
     "data": {
      "text/html": [
       "<div>\n",
       "<style scoped>\n",
       "    .dataframe tbody tr th:only-of-type {\n",
       "        vertical-align: middle;\n",
       "    }\n",
       "\n",
       "    .dataframe tbody tr th {\n",
       "        vertical-align: top;\n",
       "    }\n",
       "\n",
       "    .dataframe thead th {\n",
       "        text-align: right;\n",
       "    }\n",
       "</style>\n",
       "<table border=\"1\" class=\"dataframe\">\n",
       "  <thead>\n",
       "    <tr style=\"text-align: right;\">\n",
       "      <th></th>\n",
       "      <th>character_name</th>\n",
       "      <th>text</th>\n",
       "      <th>character_name_cat</th>\n",
       "    </tr>\n",
       "  </thead>\n",
       "  <tbody>\n",
       "    <tr>\n",
       "      <th>(Homer Simpson, 57241)</th>\n",
       "      <td>Homer Simpson</td>\n",
       "      <td>maybe you should shut up</td>\n",
       "      <td>1</td>\n",
       "    </tr>\n",
       "    <tr>\n",
       "      <th>27873</th>\n",
       "      <td>Lisa Simpson</td>\n",
       "      <td>wow mom you didnt have to go to this much trouble</td>\n",
       "      <td>2</td>\n",
       "    </tr>\n",
       "    <tr>\n",
       "      <th>(Marge Simpson, 7544)</th>\n",
       "      <td>Marge Simpson</td>\n",
       "      <td>hmmm i hope my poor little babys okay</td>\n",
       "      <td>3</td>\n",
       "    </tr>\n",
       "    <tr>\n",
       "      <th>(Marge Simpson, 5414)</th>\n",
       "      <td>Marge Simpson</td>\n",
       "      <td>there you go lisa no pimentos bart your hats w...</td>\n",
       "      <td>3</td>\n",
       "    </tr>\n",
       "    <tr>\n",
       "      <th>(Marge Simpson, 85109)</th>\n",
       "      <td>Marge Simpson</td>\n",
       "      <td>principal skinner is having second thoughts po...</td>\n",
       "      <td>3</td>\n",
       "    </tr>\n",
       "    <tr>\n",
       "      <th>...</th>\n",
       "      <td>...</td>\n",
       "      <td>...</td>\n",
       "      <td>...</td>\n",
       "    </tr>\n",
       "    <tr>\n",
       "      <th>(Bart Simpson, 132552)</th>\n",
       "      <td>Bart Simpson</td>\n",
       "      <td>yknow its really not fair youre charging two h...</td>\n",
       "      <td>0</td>\n",
       "    </tr>\n",
       "    <tr>\n",
       "      <th>110350</th>\n",
       "      <td>Lisa Simpson</td>\n",
       "      <td>why cant you just admit were lost</td>\n",
       "      <td>2</td>\n",
       "    </tr>\n",
       "    <tr>\n",
       "      <th>(Bart Simpson, 57587)</th>\n",
       "      <td>Bart Simpson</td>\n",
       "      <td>stomp that pickle revert</td>\n",
       "      <td>0</td>\n",
       "    </tr>\n",
       "    <tr>\n",
       "      <th>19294</th>\n",
       "      <td>Lisa Simpson</td>\n",
       "      <td>its perfect dad</td>\n",
       "      <td>2</td>\n",
       "    </tr>\n",
       "    <tr>\n",
       "      <th>(Bart Simpson, 103705)</th>\n",
       "      <td>Bart Simpson</td>\n",
       "      <td>the hot dog waters gonna push us into the fan</td>\n",
       "      <td>0</td>\n",
       "    </tr>\n",
       "  </tbody>\n",
       "</table>\n",
       "<p>35756 rows × 3 columns</p>\n",
       "</div>"
      ],
      "text/plain": [
       "                       character_name  \\\n",
       "(Homer Simpson, 57241)  Homer Simpson   \n",
       "27873                    Lisa Simpson   \n",
       "(Marge Simpson, 7544)   Marge Simpson   \n",
       "(Marge Simpson, 5414)   Marge Simpson   \n",
       "(Marge Simpson, 85109)  Marge Simpson   \n",
       "...                               ...   \n",
       "(Bart Simpson, 132552)   Bart Simpson   \n",
       "110350                   Lisa Simpson   \n",
       "(Bart Simpson, 57587)    Bart Simpson   \n",
       "19294                    Lisa Simpson   \n",
       "(Bart Simpson, 103705)   Bart Simpson   \n",
       "\n",
       "                                                                     text  \\\n",
       "(Homer Simpson, 57241)                           maybe you should shut up   \n",
       "27873                   wow mom you didnt have to go to this much trouble   \n",
       "(Marge Simpson, 7544)               hmmm i hope my poor little babys okay   \n",
       "(Marge Simpson, 5414)   there you go lisa no pimentos bart your hats w...   \n",
       "(Marge Simpson, 85109)  principal skinner is having second thoughts po...   \n",
       "...                                                                   ...   \n",
       "(Bart Simpson, 132552)  yknow its really not fair youre charging two h...   \n",
       "110350                                  why cant you just admit were lost   \n",
       "(Bart Simpson, 57587)                            stomp that pickle revert   \n",
       "19294                                                     its perfect dad   \n",
       "(Bart Simpson, 103705)      the hot dog waters gonna push us into the fan   \n",
       "\n",
       "                        character_name_cat  \n",
       "(Homer Simpson, 57241)                   1  \n",
       "27873                                    2  \n",
       "(Marge Simpson, 7544)                    3  \n",
       "(Marge Simpson, 5414)                    3  \n",
       "(Marge Simpson, 85109)                   3  \n",
       "...                                    ...  \n",
       "(Bart Simpson, 132552)                   0  \n",
       "110350                                   2  \n",
       "(Bart Simpson, 57587)                    0  \n",
       "19294                                    2  \n",
       "(Bart Simpson, 103705)                   0  \n",
       "\n",
       "[35756 rows x 3 columns]"
      ]
     },
     "execution_count": 18,
     "metadata": {},
     "output_type": "execute_result"
    }
   ],
   "source": [
    "char_df = pd.DataFrame(new_df, columns=['character_name','text'])\n",
    "char_df_4 = pd.DataFrame(dataframe4, columns=['character_name','text'])\n",
    "\n",
    "# converting type of columns to 'category'\n",
    "char_df['character_name'] = char_df['character_name'].astype('category')\n",
    "char_df_4['character_name'] = char_df_4['character_name'].astype('category')\n",
    "\n",
    "# assigning character names a numerical values and storing in the column 'character_name_cat'\n",
    "char_df['character_name_cat'] = char_df['character_name'].cat.codes\n",
    "char_df\n",
    "char_df_4['character_name_cat'] = char_df_4['character_name'].cat.codes\n",
    "char_df_4"
   ]
  },
  {
   "cell_type": "code",
   "execution_count": 19,
   "metadata": {
    "execution": {
     "iopub.execute_input": "2023-02-27T13:36:16.844208Z",
     "iopub.status.busy": "2023-02-27T13:36:16.843748Z",
     "iopub.status.idle": "2023-02-27T13:36:16.869592Z",
     "shell.execute_reply": "2023-02-27T13:36:16.868645Z",
     "shell.execute_reply.started": "2023-02-27T13:36:16.844167Z"
    },
    "tags": []
   },
   "outputs": [
    {
     "data": {
      "text/html": [
       "<div>\n",
       "<style scoped>\n",
       "    .dataframe tbody tr th:only-of-type {\n",
       "        vertical-align: middle;\n",
       "    }\n",
       "\n",
       "    .dataframe tbody tr th {\n",
       "        vertical-align: top;\n",
       "    }\n",
       "\n",
       "    .dataframe thead th {\n",
       "        text-align: right;\n",
       "    }\n",
       "</style>\n",
       "<table border=\"1\" class=\"dataframe\">\n",
       "  <thead>\n",
       "    <tr style=\"text-align: right;\">\n",
       "      <th></th>\n",
       "      <th>text</th>\n",
       "      <th>character_name_cat</th>\n",
       "    </tr>\n",
       "  </thead>\n",
       "  <tbody>\n",
       "    <tr>\n",
       "      <th>(Homer Simpson, 57241)</th>\n",
       "      <td>maybe you should shut up</td>\n",
       "      <td>1</td>\n",
       "    </tr>\n",
       "    <tr>\n",
       "      <th>27873</th>\n",
       "      <td>wow mom you didnt have to go to this much trouble</td>\n",
       "      <td>2</td>\n",
       "    </tr>\n",
       "    <tr>\n",
       "      <th>(Marge Simpson, 7544)</th>\n",
       "      <td>hmmm i hope my poor little babys okay</td>\n",
       "      <td>3</td>\n",
       "    </tr>\n",
       "    <tr>\n",
       "      <th>(Marge Simpson, 5414)</th>\n",
       "      <td>there you go lisa no pimentos bart your hats w...</td>\n",
       "      <td>3</td>\n",
       "    </tr>\n",
       "    <tr>\n",
       "      <th>(Marge Simpson, 85109)</th>\n",
       "      <td>principal skinner is having second thoughts po...</td>\n",
       "      <td>3</td>\n",
       "    </tr>\n",
       "  </tbody>\n",
       "</table>\n",
       "</div>"
      ],
      "text/plain": [
       "                                                                     text  \\\n",
       "(Homer Simpson, 57241)                           maybe you should shut up   \n",
       "27873                   wow mom you didnt have to go to this much trouble   \n",
       "(Marge Simpson, 7544)               hmmm i hope my poor little babys okay   \n",
       "(Marge Simpson, 5414)   there you go lisa no pimentos bart your hats w...   \n",
       "(Marge Simpson, 85109)  principal skinner is having second thoughts po...   \n",
       "\n",
       "                        character_name_cat  \n",
       "(Homer Simpson, 57241)                   1  \n",
       "27873                                    2  \n",
       "(Marge Simpson, 7544)                    3  \n",
       "(Marge Simpson, 5414)                    3  \n",
       "(Marge Simpson, 85109)                   3  "
      ]
     },
     "execution_count": 19,
     "metadata": {},
     "output_type": "execute_result"
    }
   ],
   "source": [
    "# dropping columns in the dataset that are no longer needed\n",
    "df = char_df.drop([\"character_name\"], axis=1)\n",
    "\n",
    "df_4 = char_df_4.drop([\"character_name\"], axis=1)\n",
    "df_4.head()"
   ]
  },
  {
   "cell_type": "code",
   "execution_count": 20,
   "metadata": {
    "execution": {
     "iopub.execute_input": "2023-02-27T13:36:19.208790Z",
     "iopub.status.busy": "2023-02-27T13:36:19.208064Z",
     "iopub.status.idle": "2023-02-27T13:36:29.610916Z",
     "shell.execute_reply": "2023-02-27T13:36:29.609725Z",
     "shell.execute_reply.started": "2023-02-27T13:36:19.208738Z"
    },
    "tags": []
   },
   "outputs": [
    {
     "name": "stdout",
     "output_type": "stream",
     "text": [
      "Found 30887 unique tokens in the dataset containing the 20 most frequent labels.\n",
      "Found 19693 unique tokens for the dataset containing the 4 most frequent character labels.\n",
      "The shape of the dialogue tensor for the dataset with 20 labels is: (75807, 40)\n",
      "The shape of the labels tensor for the dataset with 20 labels is: (75807, 20)\n",
      "The shape of the dialogue tensor for the datast with 4 labels is: (35756, 40)\n",
      "The shape of the labels tensor for the dataset with 4 labels is: (35756, 4)\n"
     ]
    }
   ],
   "source": [
    "# extract the content of the column 'text' from the dataframe\n",
    "\n",
    "dialogues = df['text'].values # 20 labels\n",
    "dialogues_4 = df_4['text'].values # 4 labels\n",
    "\n",
    "# tokenizing and padding of text data and one-hot encoding of label data\n",
    "\n",
    "import keras\n",
    "from keras.preprocessing.text import Tokenizer\n",
    "from tensorflow.keras.preprocessing.sequence import pad_sequences\n",
    "from tensorflow.keras.utils import to_categorical\n",
    "\n",
    "max_word_num = 1000 # only consider the 1000 most frequent words\n",
    "max_len_seq = 40 # cut off text after 40 tokens (due to frequency distribution of text lengths above)\n",
    "\n",
    "# tokenize dataset containing 20 labels\n",
    "tokenizer = Tokenizer(num_words = max_word_num)\n",
    "tokenizer.fit_on_texts(dialogues)\n",
    "sequences = tokenizer.texts_to_sequences(dialogues)\n",
    "\n",
    "word_index = tokenizer.word_index\n",
    "print('Found %s unique tokens in the dataset containing the 20 most frequent labels.' % len(word_index))\n",
    "\n",
    "# tokenize dataset containing 4 labels\n",
    "tokenizer = Tokenizer(num_words = max_word_num)\n",
    "tokenizer.fit_on_texts(dialogues_4)\n",
    "sequences_4 = tokenizer.texts_to_sequences(dialogues_4)\n",
    "word_index_4 = tokenizer.word_index\n",
    "print('Found %s unique tokens for the dataset containing the 4 most frequent character labels.' % len(word_index_4))\n",
    "\n",
    "# padding\n",
    "text = pad_sequences(sequences, maxlen = max_len_seq)\n",
    "text_4 = pad_sequences(sequences_4, maxlen = max_len_seq)\n",
    "\n",
    "# use one-hot encoding to convert labels\n",
    "labels = to_categorical(np.asarray(df['character_name_cat']))\n",
    "labels_4 = to_categorical(np.asarray(df_4['character_name_cat'])) \n",
    "\n",
    "print('The shape of the dialogue tensor for the dataset with 20 labels is:', text.shape)\n",
    "print('The shape of the labels tensor for the dataset with 20 labels is:', labels.shape)\n",
    "\n",
    "print('The shape of the dialogue tensor for the datast with 4 labels is:', text_4.shape)\n",
    "print('The shape of the labels tensor for the dataset with 4 labels is:', labels_4.shape)"
   ]
  },
  {
   "cell_type": "code",
   "execution_count": 21,
   "metadata": {
    "execution": {
     "iopub.execute_input": "2023-02-27T13:36:29.613801Z",
     "iopub.status.busy": "2023-02-27T13:36:29.613011Z",
     "iopub.status.idle": "2023-02-27T13:36:29.652094Z",
     "shell.execute_reply": "2023-02-27T13:36:29.651052Z",
     "shell.execute_reply.started": "2023-02-27T13:36:29.613755Z"
    },
    "tags": []
   },
   "outputs": [
    {
     "name": "stdout",
     "output_type": "stream",
     "text": [
      "Training data shape for 20 labels: (60645, 40)\n",
      "Validation data shape for 20 labels: (7580, 40)\n",
      "Test data shape for 20 labels: (7580, 40)\n",
      "Training data shape for 4 labels: (28604, 40)\n",
      "Validation data shape for 4 labels: (3575, 40)\n",
      "Test data shape for 4 labels: (3575, 40)\n"
     ]
    }
   ],
   "source": [
    "# shuffling data (cf. Chollet 2019: 190)\n",
    "\n",
    "# for 20 labels\n",
    "\n",
    "indices = np.arange(text.shape[0])\n",
    "np.random.shuffle(indices)\n",
    "text = text[indices]\n",
    "labels = labels[indices]\n",
    "\n",
    "# for 4 labels\n",
    "\n",
    "indices_4 = np.arange(text_4.shape[0])\n",
    "np.random.shuffle(indices_4)\n",
    "text_4 = text_4[indices_4]\n",
    "labels_4 = labels_4[indices_4]\n",
    "\n",
    "# splitting data into train, validation and test data (80-10-10)\n",
    "\n",
    "# for the dataset containing 20 labels\n",
    "training_samples = int(len(df)*0.8)\n",
    "validation_samples = int(len(df)*0.1)\n",
    "test_samples = int(len(df)*0.1)\n",
    "\n",
    "\n",
    "x_train = text[:training_samples] \n",
    "y_train = labels[:training_samples]\n",
    "x_val = text[training_samples: training_samples + validation_samples]\n",
    "y_val = labels[training_samples: training_samples + validation_samples]\n",
    "x_test = text[validation_samples: validation_samples + test_samples]\n",
    "y_test = labels[validation_samples: validation_samples + test_samples]\n",
    "\n",
    "print(\"Training data shape for 20 labels:\", x_train.shape)\n",
    "print(\"Validation data shape for 20 labels:\", x_val.shape)\n",
    "print(\"Test data shape for 20 labels:\", x_test.shape)\n",
    "\n",
    "# for the dataset containing 4 labels\n",
    "\n",
    "training_samples = int(len(df_4)*0.8)\n",
    "validation_samples = int(len(df_4)*0.1)\n",
    "test_samples = int(len(df_4)*0.1)\n",
    "\n",
    "x_train_4 = text_4[:training_samples] \n",
    "y_train_4 = labels_4[:training_samples]\n",
    "x_val_4 = text_4[training_samples: training_samples + validation_samples]\n",
    "y_val_4 = labels_4[training_samples: training_samples + validation_samples]\n",
    "x_test_4 = text_4[validation_samples: validation_samples + test_samples]\n",
    "y_test_4 = labels_4[validation_samples: validation_samples + test_samples]\n",
    "\n",
    "print(\"Training data shape for 4 labels:\", x_train_4.shape)\n",
    "print(\"Validation data shape for 4 labels:\", x_val_4.shape)\n",
    "print(\"Test data shape for 4 labels:\", x_test_4.shape)"
   ]
  },
  {
   "cell_type": "markdown",
   "metadata": {},
   "source": [
    "# Part 2:\n",
    "### Train a model using GloVe embeddings"
   ]
  },
  {
   "cell_type": "markdown",
   "metadata": {},
   "source": [
    "### 2.1 Preprocess GloVe embeddings (cf. Chollet 2018: 190)\n",
    "\n",
    "For the embeddings, we used the \"GloVe Common Crawl\" embeddings, which were trained on web data. We thought it may be more suitable to the transcripts than embeddings trained on wikipedia or tweets. "
   ]
  },
  {
   "cell_type": "code",
   "execution_count": 96,
   "metadata": {
    "tags": []
   },
   "outputs": [
    {
     "name": "stderr",
     "output_type": "stream",
     "text": [
      "100%|██████████| 1917494/1917494 [02:45<00:00, 11608.92it/s]\n"
     ]
    }
   ],
   "source": [
    "embeddings_dict = {}\n",
    "\n",
    "# to show the percentage progress for the progress bar\n",
    "num_of_lines = sum(1 for line in open('/compLing/students/courses/deepLearning/finalProject23/andrea.schroeter/glove.42B.300d.txt')) # https://stackoverflow.com/questions/845058/how-to-get-line-count-of-a-large-file-cheaply-in-python\n",
    "\n",
    "with open('/compLing/students/courses/deepLearning/finalProject23/andrea.schroeter/glove.42B.300d.txt',\"r\", encoding='utf-8') as f:\n",
    "    for line in tqdm(f, total=num_of_lines):\n",
    "        values = line.split()\n",
    "        word = values[0]\n",
    "        vector = np.asarray(values[1:], dtype='float32')\n",
    "        embeddings_dict[word] = vector\n",
    "\n",
    "embedding_dim = 300\n",
    "\n",
    "# build an embedding matrix to load into Embedding layer of shape (max_words, embedding_dim) for the dataset containing 20 labels\n",
    "embedding_matrix = np.zeros((max_word_num, embedding_dim))\n",
    "for word, i in word_index.items():\n",
    "    embedding_vector = embeddings_dict.get(word)\n",
    "    if i < max_word_num:\n",
    "        if embedding_vector is not None:\n",
    "            embedding_matrix[i] = embedding_vector\n",
    "            \n",
    "# ... and for the dataset containing 4 labels\n",
    "\n",
    "embedding_matrix_4 = np.zeros((max_word_num, embedding_dim))\n",
    "for word, i in word_index_4.items():\n",
    "    embedding_vector = embeddings_dict.get(word)\n",
    "    if i < max_word_num:\n",
    "        if embedding_vector is not None:\n",
    "            embedding_matrix_4[i] = embedding_vector"
   ]
  },
  {
   "cell_type": "markdown",
   "metadata": {},
   "source": [
    "### 2.2 Comparing the model's performance trained on the datasets containing 4 and 20 labels"
   ]
  },
  {
   "cell_type": "code",
   "execution_count": 97,
   "metadata": {
    "tags": []
   },
   "outputs": [
    {
     "name": "stdout",
     "output_type": "stream",
     "text": [
      "Model: \"sequential_7\"\n",
      "\n",
      "_________________________________________________________________\n",
      "\n",
      "Layer (type)                 Output Shape              Param #   \n",
      "\n",
      "=================================================================\n",
      "\n",
      "embedding_7 (Embedding)      (None, 40, 300)           300000    \n",
      "\n",
      "_________________________________________________________________\n",
      "\n",
      "lstm_12 (LSTM)               (None, 8)                 9888      \n",
      "\n",
      "_________________________________________________________________\n",
      "\n",
      "dense_7 (Dense)              (None, 20)                180       \n",
      "\n",
      "=================================================================\n",
      "\n",
      "Total params: 310,068\n",
      "\n",
      "Trainable params: 10,068\n",
      "\n",
      "Non-trainable params: 300,000\n",
      "\n",
      "_________________________________________________________________\n"
     ]
    }
   ],
   "source": [
    "# model trained on dataset containing 20 labels \n",
    "\n",
    "from keras.models import Sequential\n",
    "from keras.layers import Flatten, Dense, Embedding, LSTM\n",
    "\n",
    "model = Sequential() \n",
    "# embedding layer for the pretrained GloVe embeddings\n",
    "model.add(Embedding(max_word_num, embedding_dim, input_length=max_len_seq)) \n",
    "model.add(LSTM(8)) # use LSTM layer to capture long-term dependencies in text and to prevent the vanishing gradient problem (cf. Chollet 2018: 202)\n",
    "model.add(Dense(20, activation='softmax')) \n",
    "'''We chose a Dense layer with 20 output units because we have 20 different labels. Because it is a multiclass classification task,\n",
    "we used softmax as the activation function and categorical_crossentropy as the loss function. '''\n",
    "\n",
    "# load GloVe embeddings in membedding layer and prevent parameters from being trainable\n",
    "model.layers[0].set_weights([embedding_matrix])\n",
    "model.layers[0].trainable = False\n",
    "\n",
    "model.summary()\n"
   ]
  },
  {
   "cell_type": "code",
   "execution_count": 98,
   "metadata": {},
   "outputs": [
    {
     "name": "stdout",
     "output_type": "stream",
     "text": [
      "Epoch 1/10\n",
      "\n",
      "948/948 [==============================] - 19s 18ms/step - loss: 2.3172 - acc: 0.3101 - val_loss: 2.2328 - val_acc: 0.3182\n",
      "\n",
      "Epoch 2/10\n",
      "\n",
      "948/948 [==============================] - 16s 17ms/step - loss: 2.1845 - acc: 0.3365 - val_loss: 2.1482 - val_acc: 0.3470\n",
      "\n",
      "Epoch 3/10\n",
      "\n",
      "948/948 [==============================] - 17s 17ms/step - loss: 2.1197 - acc: 0.3549 - val_loss: 2.0993 - val_acc: 0.3583\n",
      "\n",
      "Epoch 4/10\n",
      "\n",
      "948/948 [==============================] - 17s 18ms/step - loss: 2.0787 - acc: 0.3644 - val_loss: 2.0750 - val_acc: 0.3596\n",
      "\n",
      "Epoch 5/10\n",
      "\n",
      "948/948 [==============================] - 17s 18ms/step - loss: 2.0538 - acc: 0.3693 - val_loss: 2.0642 - val_acc: 0.3640\n",
      "\n",
      "Epoch 6/10\n",
      "\n",
      "948/948 [==============================] - 17s 18ms/step - loss: 2.0368 - acc: 0.3749 - val_loss: 2.0431 - val_acc: 0.3724\n",
      "\n",
      "Epoch 7/10\n",
      "\n",
      "948/948 [==============================] - 17s 18ms/step - loss: 2.0241 - acc: 0.3769 - val_loss: 2.0349 - val_acc: 0.3730\n",
      "\n",
      "Epoch 8/10\n",
      "\n",
      "948/948 [==============================] - 17s 18ms/step - loss: 2.0141 - acc: 0.3814 - val_loss: 2.0334 - val_acc: 0.3718\n",
      "\n",
      "Epoch 9/10\n",
      "\n",
      "948/948 [==============================] - 16s 17ms/step - loss: 2.0061 - acc: 0.3808 - val_loss: 2.0261 - val_acc: 0.3712\n",
      "\n",
      "Epoch 10/10\n",
      "\n",
      "948/948 [==============================] - 16s 17ms/step - loss: 1.9995 - acc: 0.3829 - val_loss: 2.0236 - val_acc: 0.3718\n"
     ]
    }
   ],
   "source": [
    "'''compile the model with optimizer, loss function and accuracy as a metric\n",
    "Note: would have been maybe better to use precision/recall as a metric because we are dealing with a very imbalanced dataset. \n",
    "However, we wanted to compare the model trained on 20 labels with the ones trained on the 4 most frequent labels.\n",
    "We chose the RMSprop optimizer because it is often used for recurrent neural networks (Pascanu et al.,2013).\n",
    "'''\n",
    "\n",
    "model.compile(optimizer='rmsprop', loss='categorical_crossentropy', metrics=['acc'])\n",
    "\n",
    "# fit model on training data and training labels, train over 10 epochs with batch size 64\n",
    "history = model.fit(x_train, y_train,\n",
    "epochs=10,\n",
    "batch_size=64,\n",
    "validation_data=(x_val, y_val)) # validation split was 0.1 (see above)"
   ]
  },
  {
   "cell_type": "code",
   "execution_count": 99,
   "metadata": {
    "tags": []
   },
   "outputs": [
    {
     "name": "stdout",
     "output_type": "stream",
     "text": [
      "Model: \"sequential_8\"\n",
      "\n",
      "_________________________________________________________________\n",
      "\n",
      "Layer (type)                 Output Shape              Param #   \n",
      "\n",
      "=================================================================\n",
      "\n",
      "embedding_8 (Embedding)      (None, 40, 300)           300000    \n",
      "\n",
      "_________________________________________________________________\n",
      "\n",
      "lstm_13 (LSTM)               (None, 8)                 9888      \n",
      "\n",
      "_________________________________________________________________\n",
      "\n",
      "dense_8 (Dense)              (None, 4)                 36        \n",
      "\n",
      "=================================================================\n",
      "\n",
      "Total params: 309,924\n",
      "\n",
      "Trainable params: 9,924\n",
      "\n",
      "Non-trainable params: 300,000\n",
      "\n",
      "_________________________________________________________________\n",
      "\n",
      "Epoch 1/10\n",
      "\n",
      "447/447 [==============================] - 10s 20ms/step - loss: 1.3591 - acc: 0.3189 - val_loss: 1.3168 - val_acc: 0.3748\n",
      "\n",
      "Epoch 2/10\n",
      "\n",
      "447/447 [==============================] - 8s 18ms/step - loss: 1.2678 - acc: 0.4070 - val_loss: 1.2420 - val_acc: 0.4076\n",
      "\n",
      "Epoch 3/10\n",
      "\n",
      "447/447 [==============================] - 8s 18ms/step - loss: 1.2162 - acc: 0.4282 - val_loss: 1.2174 - val_acc: 0.4162\n",
      "\n",
      "Epoch 4/10\n",
      "\n",
      "447/447 [==============================] - 8s 17ms/step - loss: 1.1916 - acc: 0.4419 - val_loss: 1.2056 - val_acc: 0.4283\n",
      "\n",
      "Epoch 5/10\n",
      "\n",
      "447/447 [==============================] - 8s 17ms/step - loss: 1.1759 - acc: 0.4528 - val_loss: 1.1938 - val_acc: 0.4322\n",
      "\n",
      "Epoch 6/10\n",
      "\n",
      "447/447 [==============================] - 7s 17ms/step - loss: 1.1646 - acc: 0.4556 - val_loss: 1.1874 - val_acc: 0.4364\n",
      "\n",
      "Epoch 7/10\n",
      "\n",
      "447/447 [==============================] - 7s 16ms/step - loss: 1.1562 - acc: 0.4616 - val_loss: 1.1889 - val_acc: 0.4403\n",
      "\n",
      "Epoch 8/10\n",
      "\n",
      "447/447 [==============================] - 7s 15ms/step - loss: 1.1489 - acc: 0.4701 - val_loss: 1.1854 - val_acc: 0.4417\n",
      "\n",
      "Epoch 9/10\n",
      "\n",
      "447/447 [==============================] - 7s 15ms/step - loss: 1.1425 - acc: 0.4715 - val_loss: 1.1815 - val_acc: 0.4445\n",
      "\n",
      "Epoch 10/10\n",
      "\n",
      "447/447 [==============================] - 7s 15ms/step - loss: 1.1365 - acc: 0.4772 - val_loss: 1.1788 - val_acc: 0.4456\n"
     ]
    }
   ],
   "source": [
    "# 4 labels \n",
    "\n",
    "model_2 = Sequential() \n",
    "\n",
    "model_2.add(Embedding(max_word_num, embedding_dim, input_length=max_len_seq)) \n",
    "model_2.add(LSTM(8)) \n",
    "model_2.add(Dense(4, activation='softmax')) \n",
    "\n",
    "\n",
    "model_2.layers[0].set_weights([embedding_matrix_4])\n",
    "model_2.layers[0].trainable = False\n",
    "\n",
    "model_2.summary()\n",
    "\n",
    "\n",
    "model_2.compile(optimizer='rmsprop', loss='categorical_crossentropy', metrics=['acc'])\n",
    "\n",
    "history_2 = model_2.fit(x_train_4, y_train_4,\n",
    "epochs=10,\n",
    "batch_size=64,\n",
    "validation_data=(x_val_4, y_val_4))"
   ]
  },
  {
   "cell_type": "code",
   "execution_count": 100,
   "metadata": {
    "tags": []
   },
   "outputs": [
    {
     "data": {
      "image/png": "[encoded data removed]",
      "text/plain": [
       "<Figure size 720x576 with 4 Axes>"
      ]
     },
     "metadata": {
      "needs_background": "light"
     },
     "output_type": "display_data"
    }
   ],
   "source": [
    "# Plotting the accuracy and loss of the training and validation data for the first (20 labels) and second model (4 labels) (cf. Chollet 2018: 192)\n",
    "\n",
    "fig, axs = plt.subplots(nrows=2, ncols=2, figsize=(10, 8))\n",
    "\n",
    "# Model 1 (20 labels)\n",
    "acc = history.history['acc']\n",
    "val_acc = history.history['val_acc']\n",
    "loss = history.history['loss']\n",
    "val_loss = history.history['val_loss']\n",
    "epochs = range(1, len(acc) + 1)\n",
    "\n",
    "plt.subplot(2, 2, 1)\n",
    "plt.plot(epochs, acc, 'bo', label='Training acc')\n",
    "plt.plot(epochs, val_acc, 'b', label='Validation acc')\n",
    "plt.title('Model 1 (20 labels) \\n Training and validation accuracy')\n",
    "plt.ylabel('Accuracy')\n",
    "plt.legend()\n",
    "\n",
    "plt.subplot(2, 2, 2)\n",
    "plt.plot(epochs, loss, 'bo', label='Training loss')\n",
    "plt.plot(epochs, val_loss, 'b', label='Validation loss')\n",
    "plt.title('Model 1 (20 labels) \\n Training and validation loss')\n",
    "plt.xlabel('Epochs')\n",
    "plt.ylabel('Loss')\n",
    "plt.legend()\n",
    "\n",
    "# Model 2 (4 labels)\n",
    "acc_2 = history_2.history['acc']\n",
    "val_acc_2 = history_2.history['val_acc']\n",
    "loss_2 = history_2.history['loss']\n",
    "val_loss_2 = history_2.history['val_loss']\n",
    "epochs_2 = range(1, len(acc_2) + 1)\n",
    "\n",
    "plt.subplot(2, 2, 3)\n",
    "plt.plot(epochs_2, acc_2, 'go', label='Training acc')\n",
    "plt.plot(epochs_2, val_acc_2, 'g', label='Validation acc')\n",
    "plt.title('Model 2 (4 labels) \\n Training and validation accuracy')\n",
    "plt.xlabel('Epochs')\n",
    "plt.ylabel('Accuracy')\n",
    "plt.legend()\n",
    "\n",
    "plt.subplot(2, 2, 4)\n",
    "plt.plot(epochs_2, loss_2, 'go', label='Training loss')\n",
    "plt.plot(epochs_2, val_loss_2, 'g', label='Validation loss')\n",
    "plt.title('Model 2 (4 labels) \\n Training and validation loss')\n",
    "plt.xlabel('Epochs')\n",
    "plt.ylabel('Loss')\n",
    "plt.legend()\n",
    "\n",
    "plt.subplots_adjust(hspace=0.5)\n",
    "\n",
    "plt.show()"
   ]
  },
  {
   "cell_type": "code",
   "execution_count": 101,
   "metadata": {
    "tags": []
   },
   "outputs": [
    {
     "name": "stdout",
     "output_type": "stream",
     "text": [
      "237/237 [==============================] - 1s 4ms/step - loss: 1.9883 - acc: 0.3821\n",
      "\n",
      "112/112 [==============================] - 0s 3ms/step - loss: 1.1232 - acc: 0.4783\n"
     ]
    },
    {
     "data": {
      "text/plain": [
       "[1.1231552362442017, 0.4783216714859009]"
      ]
     },
     "execution_count": 101,
     "metadata": {},
     "output_type": "execute_result"
    }
   ],
   "source": [
    "# evaluate on the test set\n",
    "model.evaluate(x_test, y_test) # 20 labels\n",
    "model_2.evaluate(x_test_4, y_test_4) # 4 labels"
   ]
  },
  {
   "cell_type": "markdown",
   "metadata": {},
   "source": [
    "### Discussion\n",
    "\n",
    "After training the model on the dataset with 20 labels for 10 epochs we reach an accuracy of 0.38 and a loss of 1.99 for the training data. For the validation data, we achieve an accuracy of 0.37 and a loss of 2.02. The accuracy of the training data is slightly higher, which might indicate overfitting, i.e. the model performs better on the training than on the validation data (never seen data). This indicates that the model learned \"representations that are specific to the training data and [doesn’t] generalize to data outside of the training set\" (Chollet 2018: 76). In the plot we can also observe that the validation accuracy is stagnating after the 6th epoch. We achieve a test accuracy of 0.3821, which is slightly lower than the training accuracy (0.3829). \n",
    "\n",
    "For the model trained on the dataset containing 4 labels (a dataset undersampled to adress the imbalance of the dataset) we obtained a training loss of 1.14, a training accuracy of 0.48, a validation loss of 1.18 and a validation accuracy of 0.45. The validation accuracy only slightly increases after the 5th epoch. The training accuracy (0.4772) is higher than the validation accuracy, however, the test accuracy (0.4783) is slightly higher than the training accuracy, which might indicate a slight underfitting (i.e. \"the network hasn’t yet modeled all relevant patterns in the training data\" (Chollet 2018: 104)). On the other hand, the test accuracy is only slightly higher than the training accuracy and random shuffling by chance might have resulted in a test data set that is \"simpler\" for the model or that there was a form of data leakage. Another explanation would be that the model might be too simple to capture all relevant data. In order to test whether a too simplistic model could be responsible for the better performance on the test data, we increased hte complexity of the model's architecture by adding another LSTM layer with 64 units. To prevent overfitting, we used dropout regularization (see 2.3).\n",
    "\n",
    "Generally, the accuracy achieved by the model trained on the undersampled dataset with 4 labels is higher than the accuracy of the model trained on the dataset with 20 labels. This could be explained by the fact that we applied undersampling to the dataset containing 4 labels. In addition, the task of learning to classify four different characters is simpler than learning how to map 20 characters to their corresponding utterances, resulting in a higher accuracy of the model trained on the dataset with 4 labels. However, we observe a slightly bigger overfitting between training and validation accuracy compared to the model trained on the dataset with 20 labels. This could be explained by the decreased sample size for the dataset containing 4 labels due to the undersampling procedure. "
   ]
  },
  {
   "cell_type": "markdown",
   "metadata": {},
   "source": [
    "### 2.3 Experimentation with model's architecture (focussing on the first model trained on data containing 20 character labels)\n",
    "\n",
    "In order to test whether a too simplistic model could be responsible for the higher test accuracy (2.2), we increased the size of the units of the LSTM layer to 64 and added another LSTM layer with 64 units to increase the complexity of the model. We used dropout regularization with a rate of 0.2 after the first LSTM layer to prevent overfitting in reccurent layers (cf. Chollet 2018: 207). \"The dropout rate is the fraction of the features that are zeroed out; it’s usually set between 0.2 and 0.5.\" (Chollet 2018: 109). We changed the optimizer to Adam because it is said to perform equal to or outperform RMSProp (cf. Kingma & Ba 2014)."
   ]
  },
  {
   "cell_type": "code",
   "execution_count": 102,
   "metadata": {
    "tags": []
   },
   "outputs": [
    {
     "name": "stdout",
     "output_type": "stream",
     "text": [
      "Model: \"sequential_9\"\n",
      "\n",
      "_________________________________________________________________\n",
      "\n",
      "Layer (type)                 Output Shape              Param #   \n",
      "\n",
      "=================================================================\n",
      "\n",
      "embedding_9 (Embedding)      (None, 40, 300)           300000    \n",
      "\n",
      "_________________________________________________________________\n",
      "\n",
      "lstm_14 (LSTM)               (None, 40, 64)            93440     \n",
      "\n",
      "_________________________________________________________________\n",
      "\n",
      "dropout_3 (Dropout)          (None, 40, 64)            0         \n",
      "\n",
      "_________________________________________________________________\n",
      "\n",
      "lstm_15 (LSTM)               (None, 64)                33024     \n",
      "\n",
      "_________________________________________________________________\n",
      "\n",
      "dense_9 (Dense)              (None, 4)                 260       \n",
      "\n",
      "=================================================================\n",
      "\n",
      "Total params: 426,724\n",
      "\n",
      "Trainable params: 126,724\n",
      "\n",
      "Non-trainable params: 300,000\n",
      "\n",
      "_________________________________________________________________\n",
      "\n",
      "Epoch 1/10\n",
      "\n",
      "447/447 [==============================] - 31s 62ms/step - loss: 1.3414 - acc: 0.3296 - val_loss: 1.2874 - val_acc: 0.3743\n",
      "\n",
      "Epoch 2/10\n",
      "\n",
      "447/447 [==============================] - 28s 63ms/step - loss: 1.2589 - acc: 0.3960 - val_loss: 1.2412 - val_acc: 0.4126\n",
      "\n",
      "Epoch 3/10\n",
      "\n",
      "447/447 [==============================] - 28s 63ms/step - loss: 1.2166 - acc: 0.4229 - val_loss: 1.2274 - val_acc: 0.4227\n",
      "\n",
      "Epoch 4/10\n",
      "\n",
      "447/447 [==============================] - 28s 63ms/step - loss: 1.1848 - acc: 0.4474 - val_loss: 1.2124 - val_acc: 0.4266\n",
      "\n",
      "Epoch 5/10\n",
      "\n",
      "447/447 [==============================] - 28s 62ms/step - loss: 1.1555 - acc: 0.4642 - val_loss: 1.2130 - val_acc: 0.4364\n",
      "\n",
      "Epoch 6/10\n",
      "\n",
      "447/447 [==============================] - 28s 64ms/step - loss: 1.1280 - acc: 0.4809 - val_loss: 1.2206 - val_acc: 0.4308\n",
      "\n",
      "Epoch 7/10\n",
      "\n",
      "447/447 [==============================] - 28s 63ms/step - loss: 1.1003 - acc: 0.4941 - val_loss: 1.2244 - val_acc: 0.4280\n",
      "\n",
      "Epoch 8/10\n",
      "\n",
      "447/447 [==============================] - 29s 66ms/step - loss: 1.0695 - acc: 0.5171 - val_loss: 1.2220 - val_acc: 0.4336\n",
      "\n",
      "Epoch 9/10\n",
      "\n",
      "447/447 [==============================] - 29s 65ms/step - loss: 1.0422 - acc: 0.5321 - val_loss: 1.2702 - val_acc: 0.4288\n",
      "\n",
      "Epoch 10/10\n",
      "\n",
      "447/447 [==============================] - 28s 64ms/step - loss: 1.0125 - acc: 0.5515 - val_loss: 1.2740 - val_acc: 0.4283\n"
     ]
    }
   ],
   "source": [
    "from keras.layers import Dropout\n",
    "\n",
    "model_3 = Sequential() \n",
    "\n",
    "model_3.add(Embedding(max_word_num, embedding_dim, input_length=max_len_seq)) \n",
    "model_3.add(LSTM(64, return_sequences=True)) \n",
    "model_3.add(Dropout(0.2))\n",
    "model_3.add(LSTM(64)) \n",
    "model_3.add(Dense(4, activation='softmax')) \n",
    "\n",
    "model_3.layers[0].set_weights([embedding_matrix])\n",
    "model_3.layers[0].trainable = False\n",
    "\n",
    "model_3.summary()\n",
    "\n",
    "model_3.compile(optimizer='adam', loss='categorical_crossentropy', metrics= ['acc'])\n",
    "\n",
    "history3 = model_3.fit(x_train_4, y_train_4,\n",
    "epochs=10,\n",
    "batch_size=64,\n",
    "validation_data=(x_val_4, y_val_4))"
   ]
  },
  {
   "cell_type": "code",
   "execution_count": 103,
   "metadata": {
    "tags": []
   },
   "outputs": [
    {
     "name": "stdout",
     "output_type": "stream",
     "text": [
      "112/112 [==============================] - 1s 11ms/step - loss: 0.9300 - acc: 0.6039\n"
     ]
    },
    {
     "data": {
      "text/plain": [
       "[0.9300090074539185, 0.6039161086082458]"
      ]
     },
     "execution_count": 103,
     "metadata": {},
     "output_type": "execute_result"
    }
   ],
   "source": [
    "model_3.evaluate(x_test_4, y_test_4) # evaluate on the test set"
   ]
  },
  {
   "cell_type": "code",
   "execution_count": 107,
   "metadata": {},
   "outputs": [
    {
     "data": {
      "image/png": "[encoded data removed]",
      "text/plain": [
       "<Figure size 432x288 with 1 Axes>"
      ]
     },
     "metadata": {
      "needs_background": "light"
     },
     "output_type": "display_data"
    },
    {
     "data": {
      "image/png": "[encoded data removed]",
      "text/plain": [
       "<Figure size 432x288 with 1 Axes>"
      ]
     },
     "metadata": {
      "needs_background": "light"
     },
     "output_type": "display_data"
    }
   ],
   "source": [
    "# Plotting the accuracy and loss of the training and validation data for the third model (cf. Chollet 2018: 192)\n",
    "\n",
    "import matplotlib.pyplot as plt\n",
    "\n",
    "acc_3 = history3.history['acc']\n",
    "val_acc_3 = history3.history['val_acc']\n",
    "loss_3 = history3.history['loss']\n",
    "val_loss_3 = history3.history['val_loss']\n",
    "\n",
    "epochs = range(1, len(acc_3) + 1)\n",
    "\n",
    "plt.plot(epochs, acc_3, 'bo', label='Training acc')\n",
    "plt.plot(epochs, val_acc_3, 'b', label='Validation acc')\n",
    "plt.title('Training and validation accuracy model1')\n",
    "plt.legend()\n",
    "\n",
    "plt.figure()\n",
    "\n",
    "plt.plot(epochs, loss_3, 'bo', label='Training loss')\n",
    "plt.plot(epochs, val_loss_3, 'b', label='Validation loss')\n",
    "plt.title('Training and validation loss model1')\n",
    "plt.legend()\n",
    "\n",
    "plt.show()"
   ]
  },
  {
   "cell_type": "markdown",
   "metadata": {},
   "source": [
    "### Overall discussion\n",
    "\n",
    "After training model 3 for 10 epochs we get a training loss of 1.0125, a training accuracy of 0.5515, a validation loss of 1.2740 and a validation accuracy of 0.4283. Even though this model achieves a higher accuracy than model 1 and model 2, increasing the complexity comes with severe overfitting. The plot above shows that the validation accuracy stagnates after epoch 5 and the validation loss is even increasing after epoch 8. \n",
    "\n",
    "The test accuracy for model 3 however is still higher than the training accuracy (0.6039 vs. 0.5515). The higher test accuracy might be explained by data leakage, i.e. an \"overlap between the train and test datasets\" (Elangovan et al. 2021). Although we did drop duplicates when we preprocessed the dataset, it might be possible that the dataset still contains very similar texts (e.g. might contain overlapping texts). However, the validation accuracy is always lower than the training accuracy even though we applied random shuffling before splitting the data. There might have been a mistake with shuffling and splitting the data (see 2.). In order to prevent overfitting, one should rather reduce the size of the model (cf. Chollet 2018: 104). One could also increase the dropout rate (cf. Chollet 2018: 109)."
   ]
  },
  {
   "cell_type": "markdown",
   "metadata": {},
   "source": [
    "# Part 3: BERT\n",
    "### 3.1 Preprocess BERT embeddings\n",
    "\n",
    "In this section we are builing a model using BERT embeddings, more specifically the BERT base uncased model, to compare its performance with that of the models above. We followed and modified the code from https://github.com/theartificialguy/NLP-with-Deep-Learning/blob/master/BERT/Multi-Class%20classification%20TF-BERT/multi_class.ipynb."
   ]
  },
  {
   "cell_type": "code",
   "execution_count": 22,
   "metadata": {
    "execution": {
     "iopub.execute_input": "2023-02-27T13:36:35.471611Z",
     "iopub.status.busy": "2023-02-27T13:36:35.471056Z",
     "iopub.status.idle": "2023-02-27T13:36:35.477145Z",
     "shell.execute_reply": "2023-02-27T13:36:35.475987Z",
     "shell.execute_reply.started": "2023-02-27T13:36:35.471569Z"
    },
    "tags": []
   },
   "outputs": [],
   "source": [
    "#pip install -U sentence-transformers"
   ]
  },
  {
   "cell_type": "code",
   "execution_count": 60,
   "metadata": {
    "execution": {
     "iopub.execute_input": "2023-02-27T14:12:17.708708Z",
     "iopub.status.busy": "2023-02-27T14:12:17.708330Z",
     "iopub.status.idle": "2023-02-27T14:12:19.431976Z",
     "shell.execute_reply": "2023-02-27T14:12:19.431020Z",
     "shell.execute_reply.started": "2023-02-27T14:12:17.708668Z"
    }
   },
   "outputs": [],
   "source": [
    "from transformers import BertTokenizer\n",
    "# load the BERT tokenizer\n",
    "tokenizer = BertTokenizer.from_pretrained('bert-base-uncased') "
   ]
  },
  {
   "cell_type": "markdown",
   "metadata": {},
   "source": [
    "To store the encoded input sequences and the attention masks for the encoded sequences for all rows in the dataset containing 4 labels we are initializing two numpy arrays with zeros. Both have the dimension (number of rows, maximum sequence length). "
   ]
  },
  {
   "cell_type": "code",
   "execution_count": 62,
   "metadata": {
    "execution": {
     "iopub.execute_input": "2023-02-27T14:12:21.974471Z",
     "iopub.status.busy": "2023-02-27T14:12:21.974105Z",
     "iopub.status.idle": "2023-02-27T14:12:21.982209Z",
     "shell.execute_reply": "2023-02-27T14:12:21.981155Z",
     "shell.execute_reply.started": "2023-02-27T14:12:21.974440Z"
    },
    "tags": []
   },
   "outputs": [],
   "source": [
    "input_ids = np.zeros((len(df_4), 40))\n",
    "att_masks = np.zeros((len(df_4), 40))"
   ]
  },
  {
   "cell_type": "code",
   "execution_count": 63,
   "metadata": {
    "execution": {
     "iopub.execute_input": "2023-02-27T14:12:23.984291Z",
     "iopub.status.busy": "2023-02-27T14:12:23.983824Z",
     "iopub.status.idle": "2023-02-27T14:12:44.935653Z",
     "shell.execute_reply": "2023-02-27T14:12:44.934593Z",
     "shell.execute_reply.started": "2023-02-27T14:12:23.984240Z"
    },
    "tags": []
   },
   "outputs": [
    {
     "name": "stderr",
     "output_type": "stream",
     "text": [
      "35756it [00:20, 1707.59it/s]\n"
     ]
    }
   ],
   "source": [
    "def encode_text(df, ids, attention_masks, tokenizer):\n",
    "    '''\n",
    "    This function iterates over all rows in a dataframe. Using the encode_plus() method of the Tokenizer object, \n",
    "    it encodes the text data and stores the ids and attention masks in numpy arrays. The tqdm function is used to display a progress bar.\n",
    "    '''\n",
    "    for i, text in tqdm(enumerate(df['text'])):\n",
    "        tokenized = tokenizer.encode_plus(\n",
    "            text,\n",
    "            max_length=40, \n",
    "            truncation=True, \n",
    "            padding='max_length', \n",
    "            add_special_tokens=True,\n",
    "            return_tensors='tf'\n",
    "        )\n",
    "        ids[i, :] = tokenized.input_ids\n",
    "        attention_masks[i, :] = tokenized.attention_mask\n",
    "    return ids, attention_masks\n",
    "\n",
    "# fill the numpy arrays inititalized with zeros with the input ids and attention masks for the dataset\n",
    "input_ids, att_masks = encode_text(df_4, input_ids, att_masks, tokenizer)"
   ]
  },
  {
   "cell_type": "code",
   "execution_count": 64,
   "metadata": {
    "execution": {
     "iopub.execute_input": "2023-02-27T14:12:44.938058Z",
     "iopub.status.busy": "2023-02-27T14:12:44.937599Z",
     "iopub.status.idle": "2023-02-27T14:12:44.946355Z",
     "shell.execute_reply": "2023-02-27T14:12:44.945204Z",
     "shell.execute_reply.started": "2023-02-27T14:12:44.938021Z"
    },
    "tags": []
   },
   "outputs": [],
   "source": [
    "# initializing a NumPy array with zeros for the labels\n",
    "labels = np.zeros((len(df_4), 4))\n",
    "labels.shape\n",
    "\n",
    "from keras.utils import to_categorical\n",
    "# use one-hot encoding to convert labels\n",
    "labels = to_categorical(np.asarray(df_4['character_name_cat'])) "
   ]
  },
  {
   "cell_type": "markdown",
   "metadata": {},
   "source": [
    "Here we are creating a TensorFlow dataset from the input_ids, att_masks, and labels so the data can be properly fed into the model. "
   ]
  },
  {
   "cell_type": "code",
   "execution_count": 65,
   "metadata": {
    "execution": {
     "iopub.execute_input": "2023-02-27T14:12:44.948172Z",
     "iopub.status.busy": "2023-02-27T14:12:44.947831Z",
     "iopub.status.idle": "2023-02-27T14:12:44.992634Z",
     "shell.execute_reply": "2023-02-27T14:12:44.991705Z",
     "shell.execute_reply.started": "2023-02-27T14:12:44.948139Z"
    },
    "tags": []
   },
   "outputs": [
    {
     "data": {
      "text/plain": [
       "<TakeDataset element_spec=(TensorSpec(shape=(40,), dtype=tf.float64, name=None), TensorSpec(shape=(40,), dtype=tf.float64, name=None), TensorSpec(shape=(4,), dtype=tf.float32, name=None))>"
      ]
     },
     "execution_count": 65,
     "metadata": {},
     "output_type": "execute_result"
    }
   ],
   "source": [
    "import tensorflow as tf\n",
    "# create a data pipeline for feeding the encoded input sequences, attention masks and label data into the model\n",
    "dataset = tf.data.Dataset.from_tensor_slices((input_ids, att_masks, labels))\n",
    "dataset.take(1) # retrieve first sample in data set and check its shape and content "
   ]
  },
  {
   "cell_type": "code",
   "execution_count": 66,
   "metadata": {
    "execution": {
     "iopub.execute_input": "2023-02-27T14:12:44.995708Z",
     "iopub.status.busy": "2023-02-27T14:12:44.995320Z",
     "iopub.status.idle": "2023-02-27T14:12:45.001007Z",
     "shell.execute_reply": "2023-02-27T14:12:44.999876Z",
     "shell.execute_reply.started": "2023-02-27T14:12:44.995655Z"
    },
    "tags": []
   },
   "outputs": [],
   "source": [
    "# creating dictionaries\n",
    "def SentimentDatasetMapFunction(input_ids, att_masks, labels):\n",
    "    '''This function maps the encoded input sequences, attention masks and labels to a format required by the input layer of the BERT model.\n",
    "    It returns a dictionary with two keys (input_ids and attention_mask) that can be later used as input to the map method of a tf.data.Dataset object.'''\n",
    "    return {\n",
    "        'input_ids': input_ids,\n",
    "        'attention_mask': att_masks\n",
    "    }, labels"
   ]
  },
  {
   "cell_type": "code",
   "execution_count": 67,
   "metadata": {
    "execution": {
     "iopub.execute_input": "2023-02-27T14:12:45.002877Z",
     "iopub.status.busy": "2023-02-27T14:12:45.002505Z",
     "iopub.status.idle": "2023-02-27T14:12:45.022214Z",
     "shell.execute_reply": "2023-02-27T14:12:45.021194Z",
     "shell.execute_reply.started": "2023-02-27T14:12:45.002842Z"
    },
    "tags": []
   },
   "outputs": [
    {
     "data": {
      "text/plain": [
       "<TakeDataset element_spec=({'input_ids': TensorSpec(shape=(40,), dtype=tf.float64, name=None), 'attention_mask': TensorSpec(shape=(40,), dtype=tf.float64, name=None)}, TensorSpec(shape=(4,), dtype=tf.float32, name=None))>"
      ]
     },
     "execution_count": 67,
     "metadata": {},
     "output_type": "execute_result"
    }
   ],
   "source": [
    "# transform data according to the SentimentDataSetMapfunction (required format for tensorflow dataset)\n",
    "converting to required format for tensorflow dataset\n",
    "dataset = dataset.map(SentimentDatasetMapFunction) \n",
    "dataset.take(1)"
   ]
  },
  {
   "cell_type": "code",
   "execution_count": 68,
   "metadata": {
    "execution": {
     "iopub.execute_input": "2023-02-27T14:12:45.024201Z",
     "iopub.status.busy": "2023-02-27T14:12:45.023863Z",
     "iopub.status.idle": "2023-02-27T14:12:45.033289Z",
     "shell.execute_reply": "2023-02-27T14:12:45.032331Z",
     "shell.execute_reply.started": "2023-02-27T14:12:45.024169Z"
    },
    "tags": []
   },
   "outputs": [],
   "source": [
    "# random shuffling of the data and setting the batch size to 16\n",
    "dataset = dataset.shuffle(10000).batch(16, drop_remainder=True)"
   ]
  },
  {
   "cell_type": "code",
   "execution_count": 69,
   "metadata": {
    "execution": {
     "iopub.execute_input": "2023-02-27T14:12:45.035417Z",
     "iopub.status.busy": "2023-02-27T14:12:45.035033Z",
     "iopub.status.idle": "2023-02-27T14:12:45.045469Z",
     "shell.execute_reply": "2023-02-27T14:12:45.044524Z",
     "shell.execute_reply.started": "2023-02-27T14:12:45.035383Z"
    },
    "tags": []
   },
   "outputs": [],
   "source": [
    "# split the dataset into train, val, and test sets\n",
    "\n",
    "p_train = 0.8\n",
    "p_val = 0.1\n",
    "p_test = 0.1\n",
    "\n",
    "num_samples = len(df_4)//16\n",
    "train_size = int(num_samples * p_train)\n",
    "val_size = int(num_samples * p_val)\n",
    "\n",
    "train_dataset = dataset.take(train_size)\n",
    "remaining_dataset = dataset.skip(train_size)\n",
    "val_dataset = remaining_dataset.take(val_size)\n",
    "test_dataset = remaining_dataset.skip(val_size)"
   ]
  },
  {
   "cell_type": "code",
   "execution_count": 70,
   "metadata": {
    "execution": {
     "iopub.execute_input": "2023-02-27T14:12:45.047406Z",
     "iopub.status.busy": "2023-02-27T14:12:45.047011Z",
     "iopub.status.idle": "2023-02-27T14:12:46.934587Z",
     "shell.execute_reply": "2023-02-27T14:12:46.933647Z",
     "shell.execute_reply.started": "2023-02-27T14:12:45.047373Z"
    },
    "tags": []
   },
   "outputs": [
    {
     "name": "stderr",
     "output_type": "stream",
     "text": [
      "Some layers from the model checkpoint at bert-base-uncased were not used when initializing TFBertModel: ['mlm___cls', 'nsp___cls']\n",
      "- This IS expected if you are initializing TFBertModel from the checkpoint of a model trained on another task or with another architecture (e.g. initializing a BertForSequenceClassification model from a BertForPreTraining model).\n",
      "- This IS NOT expected if you are initializing TFBertModel from the checkpoint of a model that you expect to be exactly identical (initializing a BertForSequenceClassification model from a BertForSequenceClassification model).\n",
      "All the layers of TFBertModel were initialized from the model checkpoint at bert-base-uncased.\n",
      "If your task is similar to the task the model of the checkpoint was trained on, you can already use TFBertModel for predictions without further training.\n"
     ]
    }
   ],
   "source": [
    "# loading the bert-uncased model\n",
    "from transformers import TFBertModel\n",
    "model = TFBertModel.from_pretrained('bert-base-uncased')\n"
   ]
  },
  {
   "cell_type": "markdown",
   "metadata": {},
   "source": [
    "The following code snippet defines a new Keras model that takes the takes the BERT embeddings as input (or to be more specific the input_ids and attention_mask tensors) and contains two additional Dense layers with 512 and 4 units respectively. The bert_embds contains an extracted pooled output tensor which can be further processed by the following layers in the network. The intermediate layer uses the relu activation function which is commonly used in intermediate layers. The output layer uses the softmax activation function which is suitable for our multiclass classidication task. We have four output units corresponding to the four character labels and the output of the model is a probablity distribution over these four classes."
   ]
  },
  {
   "cell_type": "code",
   "execution_count": 72,
   "metadata": {
    "execution": {
     "iopub.execute_input": "2023-02-27T14:13:27.399044Z",
     "iopub.status.busy": "2023-02-27T14:13:27.398100Z",
     "iopub.status.idle": "2023-02-27T14:13:29.673967Z",
     "shell.execute_reply": "2023-02-27T14:13:29.672994Z",
     "shell.execute_reply.started": "2023-02-27T14:13:27.399004Z"
    },
    "tags": []
   },
   "outputs": [
    {
     "name": "stdout",
     "output_type": "stream",
     "text": [
      "Model: \"model_2\"\n",
      "__________________________________________________________________________________________________\n",
      " Layer (type)                   Output Shape         Param #     Connected to                     \n",
      "==================================================================================================\n",
      " input_ids (InputLayer)         [(None, 40)]         0           []                               \n",
      "                                                                                                  \n",
      " attention_mask (InputLayer)    [(None, 40)]         0           []                               \n",
      "                                                                                                  \n",
      " bert (TFBertMainLayer)         TFBaseModelOutputWi  109482240   ['input_ids[0][0]',              \n",
      "                                thPoolingAndCrossAt               'attention_mask[0][0]']         \n",
      "                                tentions(last_hidde                                               \n",
      "                                n_state=(None, 40,                                                \n",
      "                                768),                                                             \n",
      "                                 pooler_output=(Non                                               \n",
      "                                e, 768),                                                          \n",
      "                                 past_key_values=No                                               \n",
      "                                ne, hidden_states=N                                               \n",
      "                                one, attentions=Non                                               \n",
      "                                e, cross_attentions                                               \n",
      "                                =None)                                                            \n",
      "                                                                                                  \n",
      " intermediate_layer (Dense)     (None, 512)          393728      ['bert[0][1]']                   \n",
      "                                                                                                  \n",
      " output_layer (Dense)           (None, 4)            2052        ['intermediate_layer[0][0]']     \n",
      "                                                                                                  \n",
      "==================================================================================================\n",
      "Total params: 109,878,020\n",
      "Trainable params: 395,780\n",
      "Non-trainable params: 109,482,240\n",
      "__________________________________________________________________________________________________\n"
     ]
    }
   ],
   "source": [
    "# freeze weights of BERT's layers (prevent weights from pre-trained BERT model from updating)\n",
    "bert = model.bert \n",
    "\n",
    "for layer in bert.submodules:\n",
    "    layer.trainable = False\n",
    "\n",
    "\n",
    "# defining the two input layers for input_ids and attn_masks\n",
    "input_ids = tf.keras.layers.Input(shape=(40,), name='input_ids', dtype='int32')\n",
    "att_masks = tf.keras.layers.Input(shape=(40,), name='attention_mask', dtype='int32')\n",
    "\n",
    "bert_embds = model.bert(input_ids, attention_mask=att_masks)[1] # getting the pooled output layer\n",
    "\n",
    "intermediate_layer = tf.keras.layers.Dense(512, activation='relu', name='intermediate_layer')(bert_embds)\n",
    "output_layer = tf.keras.layers.Dense(4, activation='softmax', name='output_layer')(intermediate_layer)\n",
    "\n",
    "bert_model = tf.keras.Model(inputs=[input_ids, att_masks], outputs=output_layer)\n",
    "bert_model.summary()"
   ]
  },
  {
   "cell_type": "markdown",
   "metadata": {},
   "source": [
    "We define the optimizer as Adam, the loss function as CategoricalCrossentropy (because we are dealing with a multiclass classification problem) and the metric as accuracy."
   ]
  },
  {
   "cell_type": "code",
   "execution_count": 73,
   "metadata": {
    "execution": {
     "iopub.execute_input": "2023-02-27T14:13:39.579961Z",
     "iopub.status.busy": "2023-02-27T14:13:39.579592Z",
     "iopub.status.idle": "2023-02-27T14:13:39.589363Z",
     "shell.execute_reply": "2023-02-27T14:13:39.588364Z",
     "shell.execute_reply.started": "2023-02-27T14:13:39.579931Z"
    },
    "tags": []
   },
   "outputs": [],
   "source": [
    "optim = tf.keras.optimizers.Adam(learning_rate=1e-5, decay=1e-6)\n",
    "loss_func = tf.keras.losses.CategoricalCrossentropy()\n",
    "acc = tf.keras.metrics.CategoricalAccuracy('accuracy')\n"
   ]
  },
  {
   "cell_type": "code",
   "execution_count": 74,
   "metadata": {
    "execution": {
     "iopub.execute_input": "2023-02-27T14:13:47.578335Z",
     "iopub.status.busy": "2023-02-27T14:13:47.577973Z",
     "iopub.status.idle": "2023-02-27T14:13:47.592610Z",
     "shell.execute_reply": "2023-02-27T14:13:47.591552Z",
     "shell.execute_reply.started": "2023-02-27T14:13:47.578303Z"
    },
    "tags": []
   },
   "outputs": [],
   "source": [
    "bert_model.compile(optimizer=optim, loss=loss_func, metrics=['acc'])"
   ]
  },
  {
   "cell_type": "code",
   "execution_count": 75,
   "metadata": {
    "execution": {
     "iopub.execute_input": "2023-02-27T14:13:49.695421Z",
     "iopub.status.busy": "2023-02-27T14:13:49.695058Z",
     "iopub.status.idle": "2023-02-27T14:25:44.491522Z",
     "shell.execute_reply": "2023-02-27T14:25:44.490490Z",
     "shell.execute_reply.started": "2023-02-27T14:13:49.695391Z"
    },
    "tags": []
   },
   "outputs": [
    {
     "name": "stdout",
     "output_type": "stream",
     "text": [
      "Epoch 1/10\n",
      "1787/1787 [==============================] - 74s 38ms/step - loss: 1.3896 - acc: 0.2660 - val_loss: 1.3761 - val_acc: 0.2999\n",
      "Epoch 2/10\n",
      "1787/1787 [==============================] - 65s 36ms/step - loss: 1.3768 - acc: 0.2876 - val_loss: 1.3802 - val_acc: 0.2772\n",
      "Epoch 3/10\n",
      "1787/1787 [==============================] - 66s 37ms/step - loss: 1.3692 - acc: 0.3075 - val_loss: 1.3690 - val_acc: 0.2909\n",
      "Epoch 4/10\n",
      "1787/1787 [==============================] - 66s 36ms/step - loss: 1.3636 - acc: 0.3176 - val_loss: 1.3558 - val_acc: 0.3271\n",
      "Epoch 5/10\n",
      "1787/1787 [==============================] - 64s 36ms/step - loss: 1.3593 - acc: 0.3251 - val_loss: 1.3545 - val_acc: 0.3237\n",
      "Epoch 6/10\n",
      "1787/1787 [==============================] - 64s 36ms/step - loss: 1.3561 - acc: 0.3267 - val_loss: 1.3539 - val_acc: 0.3226\n",
      "Epoch 7/10\n",
      "1787/1787 [==============================] - 67s 38ms/step - loss: 1.3533 - acc: 0.3336 - val_loss: 1.3459 - val_acc: 0.3459\n",
      "Epoch 8/10\n",
      "1787/1787 [==============================] - 65s 36ms/step - loss: 1.3508 - acc: 0.3391 - val_loss: 1.3446 - val_acc: 0.3453\n",
      "Epoch 9/10\n",
      "1787/1787 [==============================] - 68s 38ms/step - loss: 1.3481 - acc: 0.3378 - val_loss: 1.3338 - val_acc: 0.3632\n",
      "Epoch 10/10\n",
      "1787/1787 [==============================] - 64s 36ms/step - loss: 1.3476 - acc: 0.3394 - val_loss: 1.3403 - val_acc: 0.3394\n"
     ]
    }
   ],
   "source": [
    "# train model \n",
    "history = bert_model.fit(\n",
    "    train_dataset,\n",
    "    validation_data=val_dataset,\n",
    "    epochs=10\n",
    ")"
   ]
  },
  {
   "cell_type": "code",
   "execution_count": 76,
   "metadata": {
    "execution": {
     "iopub.execute_input": "2023-02-27T14:33:26.863333Z",
     "iopub.status.busy": "2023-02-27T14:33:26.862625Z",
     "iopub.status.idle": "2023-02-27T14:33:34.223047Z",
     "shell.execute_reply": "2023-02-27T14:33:34.222114Z",
     "shell.execute_reply.started": "2023-02-27T14:33:26.863295Z"
    },
    "tags": []
   },
   "outputs": [
    {
     "name": "stdout",
     "output_type": "stream",
     "text": [
      "Test loss: 1.3338123559951782\n",
      "Test accuracy: 0.3565848171710968\n"
     ]
    }
   ],
   "source": [
    "# evaluate model on test data\n",
    "test_loss, test_acc = bert_model.evaluate(test_dataset, verbose=0)\n",
    "\n",
    "print('Test loss:', test_loss)\n",
    "print('Test accuracy:', test_acc)"
   ]
  },
  {
   "cell_type": "code",
   "execution_count": 77,
   "metadata": {
    "execution": {
     "iopub.execute_input": "2023-02-27T14:35:30.599208Z",
     "iopub.status.busy": "2023-02-27T14:35:30.598742Z",
     "iopub.status.idle": "2023-02-27T14:35:31.027414Z",
     "shell.execute_reply": "2023-02-27T14:35:31.026423Z",
     "shell.execute_reply.started": "2023-02-27T14:35:30.599172Z"
    }
   },
   "outputs": [
    {
     "data": {
      "image/png": "[encoded data removed]",
      "text/plain": [
       "<Figure size 640x480 with 1 Axes>"
      ]
     },
     "metadata": {},
     "output_type": "display_data"
    },
    {
     "data": {
      "image/png": "[encoded data removed]",
      "text/plain": [
       "<Figure size 640x480 with 1 Axes>"
      ]
     },
     "metadata": {},
     "output_type": "display_data"
    }
   ],
   "source": [
    "# plotting the accuracy and loss of the training and validation data for the BERT model (cf. Chollet 2018: 192)\n",
    "\n",
    "import matplotlib.pyplot as plt\n",
    "\n",
    "acc = history.history['acc']\n",
    "val_acc = history.history['val_acc']\n",
    "loss = history.history['loss']\n",
    "val_loss = history.history['val_loss']\n",
    "\n",
    "epochs = range(1, len(acc) + 1)\n",
    "\n",
    "plt.plot(epochs, acc, 'bo', label='Training acc')\n",
    "plt.plot(epochs, val_acc, 'b', label='Validation acc')\n",
    "plt.title('Training and validation accuracy model')\n",
    "plt.legend()\n",
    "\n",
    "plt.figure()\n",
    "\n",
    "plt.plot(epochs, loss, 'bo', label='Training loss')\n",
    "plt.plot(epochs, val_loss, 'b', label='Validation loss')\n",
    "plt.title('Training and validation loss model')\n",
    "plt.legend()\n",
    "\n",
    "plt.show()"
   ]
  },
  {
   "cell_type": "markdown",
   "metadata": {},
   "source": [
    "### Conclusion\n",
    "\n",
    "The overall performance of the model using BERT embeddings is very poor. After training the model for 10 epochs we only reach an accuracy of 0.3394 and the validation accuracy (and loss) fluctuate heavily. Contrary to our prediction, the accuracy of the BERT model is lower than that of all models using GloVe embeddings for the dataset containing 4 labels (0.4772 for model 2 and 0.5515 for model 3). One explanation for this might be that the model architecture is too simplistic since it only contains one intermediate Dense layer with 512 units. One could increase the complexity of the model and apply more finetuning of hyperparameters. Moreover, the text classification problem at hand might be too simple for a complex model involving BERT embeddings, which are even more complex than the static GloVe embeddings. As Chollet (2018: 206) points out for sentiment analysis (also a text classification task), \"such a basic problem is well solved by looking at what words occur in each review, and at what frequency\". Moreover, as Dharma et al. (2022) state, the accuracy of GloVe and BERT might depend highly on the dataset used for the text classification task."
   ]
  },
  {
   "cell_type": "markdown",
   "metadata": {},
   "source": [
    "### References\n",
    "\n",
    "Chollet, F. (2018). Deep learning with Python. Shelter Island Manning.\n",
    "\n",
    "Devlin, J., Chang, M. W., Lee, K., & Toutanova, K. (2018). Bert: Pre-training of deep bidirectional transformers for language understanding. arXiv preprint arXiv:1810.04805.\n",
    "\n",
    "Dharma, E. M., Gaol, F. L., Warnars, H. L. H. S., & Soewito, B. E. N. F. A. N. O. (2022). The accuracy comparison among Word2vec, Glove, and Fasttext towards convolution neural network (CNN) text classification. Journal of Theoretical and Applied Information Technology, 100(2), 31.\n",
    "\n",
    "Elangovan, A., He, J., & Verspoor, K. (2021). Memorization vs. generalization: quantifying data leakage in NLP performance evaluation. arXiv preprint arXiv:2102.01818.\n",
    "\n",
    "Frassinelli, D. (2002). Deep Learning with Python. Lecture Slides.\n",
    "\n",
    "Kingma, D. P., & Ba, J. (2014). Adam: A method for stochastic optimization. arXiv preprint arXiv:1412.6980.\n",
    "\n",
    "Liu, X. Y., Wu, J., & Zhou, Z. H. (2008). Exploratory undersampling for class-imbalance learning. IEEE Transactions on Systems, Man, and Cybernetics, Part B (Cybernetics), 39(2), 539-550.\n",
    "\n",
    "Pascanu, R., Mikolov, T., & Bengio, Y. (2013). On the difficulty of training recurrent neural networks. In International conference on machine learning (pp. 1310-1318). Pmlr."
   ]
  }
 ],
 "metadata": {
  "kernelspec": {
   "display_name": "Python 3 (ipykernel)",
   "language": "python",
   "name": "python3"
  },
  "language_info": {
   "codemirror_mode": {
    "name": "ipython",
    "version": 3
   },
   "file_extension": ".py",
   "mimetype": "text/x-python",
   "name": "python",
   "nbconvert_exporter": "python",
   "pygments_lexer": "ipython3",
   "version": "3.8.16"
  }
 },
 "nbformat": 4,
 "nbformat_minor": 4
}
